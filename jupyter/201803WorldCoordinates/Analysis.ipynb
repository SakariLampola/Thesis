{
 "cells": [
  {
   "cell_type": "code",
   "execution_count": 9,
   "metadata": {
    "collapsed": true
   },
   "outputs": [],
   "source": [
    "from math import pi, cos, sin"
   ]
  },
  {
   "cell_type": "code",
   "execution_count": 110,
   "metadata": {
    "collapsed": true
   },
   "outputs": [],
   "source": [
    "xc=-10\n",
    "zc=-10\n",
    "xbdot=2\n",
    "zbdot=-4\n",
    "yaw=-45*pi/180"
   ]
  },
  {
   "cell_type": "code",
   "execution_count": 111,
   "metadata": {},
   "outputs": [
    {
     "name": "stdout",
     "output_type": "stream",
     "text": [
      "-5.757359312880714 -11.414213562373094\n"
     ]
    }
   ],
   "source": [
    "xb=xc+cos(yaw)*xbdot+sin(yaw)*zbdot\n",
    "zb=zc-sin(yaw)*xbdot+cos(yaw)*zbdot\n",
    "print(xb,zb)"
   ]
  },
  {
   "cell_type": "code",
   "execution_count": 112,
   "metadata": {},
   "outputs": [
    {
     "name": "stdout",
     "output_type": "stream",
     "text": [
      "2.000000000000001 -4.0\n"
     ]
    }
   ],
   "source": [
    "xbdot=cos(yaw)*(xb-xc)-sin(yaw)*(zb-zc)\n",
    "zbdot=sin(yaw)*(xb-xc)+cos(yaw)*(zb-zc)\n",
    "print(xbdot,zbdot)"
   ]
  },
  {
   "cell_type": "code",
   "execution_count": null,
   "metadata": {
    "collapsed": true
   },
   "outputs": [],
   "source": []
  },
  {
   "cell_type": "code",
   "execution_count": null,
   "metadata": {
    "collapsed": true
   },
   "outputs": [],
   "source": []
  }
 ],
 "metadata": {
  "kernelspec": {
   "display_name": "Python 3",
   "language": "python",
   "name": "python3"
  },
  "language_info": {
   "codemirror_mode": {
    "name": "ipython",
    "version": 3
   },
   "file_extension": ".py",
   "mimetype": "text/x-python",
   "name": "python",
   "nbconvert_exporter": "python",
   "pygments_lexer": "ipython3",
   "version": "3.6.2"
  }
 },
 "nbformat": 4,
 "nbformat_minor": 2
}
