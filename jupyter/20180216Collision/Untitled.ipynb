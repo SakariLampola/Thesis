{
 "cells": [
  {
   "cell_type": "code",
   "execution_count": 1,
   "metadata": {
    "collapsed": true
   },
   "outputs": [],
   "source": [
    "import numpy as np\n",
    "import pandas as pd\n",
    "import matplotlib.pylab as plt\n",
    "import seaborn as sns\n",
    "%matplotlib inline\n",
    "sns.set(style=\"whitegrid\", color_codes=True)"
   ]
  },
  {
   "cell_type": "code",
   "execution_count": 2,
   "metadata": {},
   "outputs": [
    {
     "data": {
      "text/plain": [
       "(25977, 91)"
      ]
     },
     "execution_count": 2,
     "metadata": {},
     "output_type": "execute_result"
    }
   ],
   "source": [
    "data = pd.read_csv('Body.txt')\n",
    "data.shape"
   ]
  },
  {
   "cell_type": "code",
   "execution_count": 3,
   "metadata": {},
   "outputs": [
    {
     "data": {
      "text/html": [
       "<div>\n",
       "<style>\n",
       "    .dataframe thead tr:only-child th {\n",
       "        text-align: right;\n",
       "    }\n",
       "\n",
       "    .dataframe thead th {\n",
       "        text-align: left;\n",
       "    }\n",
       "\n",
       "    .dataframe tbody tr th {\n",
       "        vertical-align: top;\n",
       "    }\n",
       "</style>\n",
       "<table border=\"1\" class=\"dataframe\">\n",
       "  <thead>\n",
       "    <tr style=\"text-align: right;\">\n",
       "      <th></th>\n",
       "      <th>time</th>\n",
       "      <th>id</th>\n",
       "      <th>class_id</th>\n",
       "      <th>x</th>\n",
       "      <th>y</th>\n",
       "      <th>z</th>\n",
       "      <th>vx</th>\n",
       "      <th>vy</th>\n",
       "      <th>vz</th>\n",
       "      <th>sigma_00</th>\n",
       "      <th>...</th>\n",
       "      <th>c_sigma_42</th>\n",
       "      <th>c_sigma_43</th>\n",
       "      <th>c_sigma_44</th>\n",
       "      <th>c_sigma_45</th>\n",
       "      <th>c_sigma_50</th>\n",
       "      <th>c_sigma_51</th>\n",
       "      <th>c_sigma_52</th>\n",
       "      <th>c_sigma_53</th>\n",
       "      <th>c_sigma_54</th>\n",
       "      <th>c_sigma_55</th>\n",
       "    </tr>\n",
       "  </thead>\n",
       "  <tbody>\n",
       "    <tr>\n",
       "      <th>0</th>\n",
       "      <td>0.00</td>\n",
       "      <td>2457833853504</td>\n",
       "      <td>7</td>\n",
       "      <td>3.452</td>\n",
       "      <td>-0.145</td>\n",
       "      <td>-96.541</td>\n",
       "      <td>0.000</td>\n",
       "      <td>0.000</td>\n",
       "      <td>0.000</td>\n",
       "      <td>199.601</td>\n",
       "      <td>...</td>\n",
       "      <td>0.0</td>\n",
       "      <td>0.0</td>\n",
       "      <td>99840.574</td>\n",
       "      <td>0.0</td>\n",
       "      <td>0.0</td>\n",
       "      <td>0.0</td>\n",
       "      <td>1006.377</td>\n",
       "      <td>0.0</td>\n",
       "      <td>0.0</td>\n",
       "      <td>99840.574</td>\n",
       "    </tr>\n",
       "    <tr>\n",
       "      <th>1</th>\n",
       "      <td>0.00</td>\n",
       "      <td>2457833853728</td>\n",
       "      <td>7</td>\n",
       "      <td>-0.226</td>\n",
       "      <td>-1.349</td>\n",
       "      <td>-89.454</td>\n",
       "      <td>0.000</td>\n",
       "      <td>0.000</td>\n",
       "      <td>0.000</td>\n",
       "      <td>199.601</td>\n",
       "      <td>...</td>\n",
       "      <td>0.0</td>\n",
       "      <td>0.0</td>\n",
       "      <td>99840.574</td>\n",
       "      <td>0.0</td>\n",
       "      <td>0.0</td>\n",
       "      <td>0.0</td>\n",
       "      <td>1006.377</td>\n",
       "      <td>0.0</td>\n",
       "      <td>0.0</td>\n",
       "      <td>99840.574</td>\n",
       "    </tr>\n",
       "    <tr>\n",
       "      <th>2</th>\n",
       "      <td>0.04</td>\n",
       "      <td>2457833853504</td>\n",
       "      <td>7</td>\n",
       "      <td>3.507</td>\n",
       "      <td>-0.183</td>\n",
       "      <td>-96.872</td>\n",
       "      <td>0.612</td>\n",
       "      <td>-0.426</td>\n",
       "      <td>-3.685</td>\n",
       "      <td>128.569</td>\n",
       "      <td>...</td>\n",
       "      <td>0.0</td>\n",
       "      <td>0.0</td>\n",
       "      <td>99840.574</td>\n",
       "      <td>0.0</td>\n",
       "      <td>0.0</td>\n",
       "      <td>0.0</td>\n",
       "      <td>1006.377</td>\n",
       "      <td>0.0</td>\n",
       "      <td>0.0</td>\n",
       "      <td>99840.574</td>\n",
       "    </tr>\n",
       "    <tr>\n",
       "      <th>3</th>\n",
       "      <td>0.04</td>\n",
       "      <td>2457833853728</td>\n",
       "      <td>7</td>\n",
       "      <td>-0.209</td>\n",
       "      <td>-1.372</td>\n",
       "      <td>-88.698</td>\n",
       "      <td>0.182</td>\n",
       "      <td>-0.255</td>\n",
       "      <td>8.404</td>\n",
       "      <td>128.569</td>\n",
       "      <td>...</td>\n",
       "      <td>0.0</td>\n",
       "      <td>0.0</td>\n",
       "      <td>99840.574</td>\n",
       "      <td>0.0</td>\n",
       "      <td>0.0</td>\n",
       "      <td>0.0</td>\n",
       "      <td>1006.377</td>\n",
       "      <td>0.0</td>\n",
       "      <td>0.0</td>\n",
       "      <td>99840.574</td>\n",
       "    </tr>\n",
       "    <tr>\n",
       "      <th>4</th>\n",
       "      <td>0.08</td>\n",
       "      <td>2457833853504</td>\n",
       "      <td>7</td>\n",
       "      <td>3.579</td>\n",
       "      <td>-0.228</td>\n",
       "      <td>-97.404</td>\n",
       "      <td>1.181</td>\n",
       "      <td>-0.758</td>\n",
       "      <td>-8.294</td>\n",
       "      <td>128.173</td>\n",
       "      <td>...</td>\n",
       "      <td>0.0</td>\n",
       "      <td>0.0</td>\n",
       "      <td>99840.574</td>\n",
       "      <td>0.0</td>\n",
       "      <td>0.0</td>\n",
       "      <td>0.0</td>\n",
       "      <td>1006.377</td>\n",
       "      <td>0.0</td>\n",
       "      <td>0.0</td>\n",
       "      <td>99840.574</td>\n",
       "    </tr>\n",
       "  </tbody>\n",
       "</table>\n",
       "<p>5 rows × 91 columns</p>\n",
       "</div>"
      ],
      "text/plain": [
       "   time             id  class_id      x      y       z     vx     vy     vz  \\\n",
       "0  0.00  2457833853504         7  3.452 -0.145 -96.541  0.000  0.000  0.000   \n",
       "1  0.00  2457833853728         7 -0.226 -1.349 -89.454  0.000  0.000  0.000   \n",
       "2  0.04  2457833853504         7  3.507 -0.183 -96.872  0.612 -0.426 -3.685   \n",
       "3  0.04  2457833853728         7 -0.209 -1.372 -88.698  0.182 -0.255  8.404   \n",
       "4  0.08  2457833853504         7  3.579 -0.228 -97.404  1.181 -0.758 -8.294   \n",
       "\n",
       "   sigma_00     ...      c_sigma_42  c_sigma_43  c_sigma_44  c_sigma_45  \\\n",
       "0   199.601     ...             0.0         0.0   99840.574         0.0   \n",
       "1   199.601     ...             0.0         0.0   99840.574         0.0   \n",
       "2   128.569     ...             0.0         0.0   99840.574         0.0   \n",
       "3   128.569     ...             0.0         0.0   99840.574         0.0   \n",
       "4   128.173     ...             0.0         0.0   99840.574         0.0   \n",
       "\n",
       "   c_sigma_50  c_sigma_51  c_sigma_52  c_sigma_53  c_sigma_54  c_sigma_55  \n",
       "0         0.0         0.0    1006.377         0.0         0.0   99840.574  \n",
       "1         0.0         0.0    1006.377         0.0         0.0   99840.574  \n",
       "2         0.0         0.0    1006.377         0.0         0.0   99840.574  \n",
       "3         0.0         0.0    1006.377         0.0         0.0   99840.574  \n",
       "4         0.0         0.0    1006.377         0.0         0.0   99840.574  \n",
       "\n",
       "[5 rows x 91 columns]"
      ]
     },
     "execution_count": 3,
     "metadata": {},
     "output_type": "execute_result"
    }
   ],
   "source": [
    "data.head()"
   ]
  },
  {
   "cell_type": "code",
   "execution_count": 4,
   "metadata": {},
   "outputs": [
    {
     "data": {
      "text/plain": [
       "2885"
      ]
     },
     "execution_count": 4,
     "metadata": {},
     "output_type": "execute_result"
    }
   ],
   "source": [
    "data['collision_p'].argmax()"
   ]
  },
  {
   "cell_type": "code",
   "execution_count": 5,
   "metadata": {},
   "outputs": [
    {
     "data": {
      "text/plain": [
       "0.0080000000000000002"
      ]
     },
     "execution_count": 5,
     "metadata": {},
     "output_type": "execute_result"
    }
   ],
   "source": [
    "data.iloc[2885].collision_p"
   ]
  },
  {
   "cell_type": "code",
   "execution_count": 6,
   "metadata": {},
   "outputs": [
    {
     "data": {
      "text/plain": [
       "array([ 5.978, -6.696, -0.991])"
      ]
     },
     "execution_count": 6,
     "metadata": {},
     "output_type": "execute_result"
    }
   ],
   "source": [
    "mu=np.array([data.iloc[2885].c_x, data.iloc[2885].c_y, data.iloc[2885].c_z])\n",
    "mu"
   ]
  },
  {
   "cell_type": "code",
   "execution_count": 7,
   "metadata": {
    "collapsed": true
   },
   "outputs": [],
   "source": [
    "s00=data.iloc[2885].c_sigma_00\n",
    "s01=data.iloc[2885].c_sigma_01\n",
    "s02=data.iloc[2885].c_sigma_02\n",
    "s10=data.iloc[2885].c_sigma_10\n",
    "s11=data.iloc[2885].c_sigma_11\n",
    "s12=data.iloc[2885].c_sigma_12\n",
    "s20=data.iloc[2885].c_sigma_20\n",
    "s21=data.iloc[2885].c_sigma_21\n",
    "s22=data.iloc[2885].c_sigma_22\n",
    "s30=data.iloc[2885].c_sigma_20\n",
    "s31=data.iloc[2885].c_sigma_31\n",
    "s32=data.iloc[2885].c_sigma_32"
   ]
  },
  {
   "cell_type": "code",
   "execution_count": 8,
   "metadata": {
    "collapsed": true
   },
   "outputs": [],
   "source": [
    "v = np.array([[s00, s01, s02],\n",
    "              [s10, s11, s12],\n",
    "              [s20, s21, s22]])"
   ]
  },
  {
   "cell_type": "code",
   "execution_count": 9,
   "metadata": {},
   "outputs": [
    {
     "data": {
      "text/plain": [
       "array([[ 58.632,   0.   ,   0.   ],\n",
       "       [  0.   ,  58.632,   0.   ],\n",
       "       [  0.   ,   0.   ,  58.632]])"
      ]
     },
     "execution_count": 9,
     "metadata": {},
     "output_type": "execute_result"
    }
   ],
   "source": [
    "v"
   ]
  },
  {
   "cell_type": "code",
   "execution_count": 10,
   "metadata": {
    "collapsed": true
   },
   "outputs": [],
   "source": [
    "m=100"
   ]
  },
  {
   "cell_type": "code",
   "execution_count": 11,
   "metadata": {
    "collapsed": true
   },
   "outputs": [],
   "source": [
    "loc_samples = np.random.multivariate_normal(mu, v, m)"
   ]
  },
  {
   "cell_type": "code",
   "execution_count": 12,
   "metadata": {},
   "outputs": [
    {
     "data": {
      "text/plain": [
       "array([[-11.54641863, -11.72473281, -12.72185981],\n",
       "       [  1.87515405,  -4.64553525, -10.33929801],\n",
       "       [ 11.76131656,  -8.17766574,  12.3963649 ],\n",
       "       [ -0.45750684, -21.28522424,   0.94083246],\n",
       "       [ 16.41612738,   5.2043935 ,  -8.61937909],\n",
       "       [ -0.14822789, -11.90998392,   9.94924223],\n",
       "       [ 13.50310047,  -7.00079801,  -3.06266385],\n",
       "       [ -5.14450211,   2.4704262 ,  -6.77091558],\n",
       "       [ 13.75241106,  -2.0199202 ,  -5.14835526],\n",
       "       [  6.04959923,   7.32520728,  -1.09530633],\n",
       "       [ 21.66848387,  11.2256213 , -15.94300739],\n",
       "       [ 10.30750338,  -5.67041295,  -0.98795895],\n",
       "       [ 12.93239017,  10.98531743,  -1.63752209],\n",
       "       [ -3.9903803 ,   6.71902232,  -7.17635377],\n",
       "       [  3.05395773, -10.28895937,   3.56103517],\n",
       "       [ -2.31337197,   5.11896377, -10.1421646 ],\n",
       "       [ 14.66932148, -13.22964202,   3.25772517],\n",
       "       [ -0.23821925,  -5.94140798,  -4.0163233 ],\n",
       "       [ 12.98991185,  -4.0266884 ,   5.65180944],\n",
       "       [ -2.15769165,  -5.0342437 ,  -0.51626876],\n",
       "       [ -5.84731829, -11.47411338,  -9.21956676],\n",
       "       [  5.70050393,   3.77408782,   5.688462  ],\n",
       "       [ 11.64928555,   0.37577319,  -3.48722458],\n",
       "       [  2.0271855 ,  -3.46455899, -12.36735347],\n",
       "       [ 22.38572905,  -8.3923836 ,  -7.06727259],\n",
       "       [  8.29002067,  -2.62473682,   3.55104886],\n",
       "       [ -0.34925699,  -7.33042366,  -2.95017438],\n",
       "       [ -8.99202563,  -9.45834678,   4.19459513],\n",
       "       [  6.09078429,  -1.14746403,   3.72672943],\n",
       "       [  7.93822601,  -8.46999103,   5.32087396],\n",
       "       [  7.46452259,  -4.72982889, -17.09221895],\n",
       "       [ -0.70812878,   3.15730369,  -6.06757024],\n",
       "       [  1.32646282, -12.26250549,   1.57289456],\n",
       "       [ 10.52401682,  -6.44767096,  16.34147963],\n",
       "       [  8.87483978,  -1.32259838, -11.04029549],\n",
       "       [  4.37795452,  -4.32899339,   9.27573513],\n",
       "       [  8.09836746,   2.40115242,   7.90605302],\n",
       "       [ 11.27385231,  -9.71379889,  -1.36467663],\n",
       "       [ 16.56135738, -24.4390752 ,   9.37204907],\n",
       "       [  8.7995234 ,  -4.72312033,   2.5405242 ],\n",
       "       [  0.43886045, -10.49857873,  11.71944173],\n",
       "       [  1.9677035 , -15.24211399,  11.32949514],\n",
       "       [  3.69385707, -19.01435308,   5.37291968],\n",
       "       [  4.47721339,  -5.18871758,  -3.48494785],\n",
       "       [  2.85428613,   1.83821892,  10.89237308],\n",
       "       [  5.57256843,  -9.29665892,  -4.55702753],\n",
       "       [  5.66988211,  -2.31137953,  13.94096971],\n",
       "       [ 10.25738277,  -3.27330042,  -1.18161332],\n",
       "       [  5.96108209, -31.04942854,  15.75639652],\n",
       "       [ 10.50176681,  -9.50293775,  -0.75895505],\n",
       "       [ -5.55808282,  -3.05126422,   6.59784088],\n",
       "       [ 13.54643297, -12.05817578,   2.16256671],\n",
       "       [  3.4361333 ,  -5.90803911,  -3.76834395],\n",
       "       [  4.91528398, -11.02457925,   5.6672687 ],\n",
       "       [ -2.7537394 ,  -5.17599935,   6.53829669],\n",
       "       [ 10.96804676,  11.03905025, -11.35141822],\n",
       "       [ 11.34286524,  -8.29663488,  -1.75120089],\n",
       "       [  4.76196495,  -4.57087314,  10.53349053],\n",
       "       [ -0.39300653, -21.18166026,   2.18701801],\n",
       "       [ -8.55933449, -12.85300245, -17.30263673],\n",
       "       [  2.55862997,   3.15936945,  13.3138278 ],\n",
       "       [ -4.19006331,   0.32328743, -12.94999965],\n",
       "       [  9.17168393, -10.12682238,   5.64692782],\n",
       "       [ -3.10100487,  -2.11563505,   4.58448925],\n",
       "       [ 14.02266489, -15.11215989,  -2.15112073],\n",
       "       [  3.82917918,  -7.7217117 ,   1.68126451],\n",
       "       [ 11.64373893,  -6.43642486, -16.36991336],\n",
       "       [  8.78097137,   4.50633293,   1.71081162],\n",
       "       [ 13.36860397, -13.5094816 ,  -6.06422212],\n",
       "       [ 13.27451639, -13.31818715,   2.85286921],\n",
       "       [ -1.02993457, -18.89129715,   9.78055529],\n",
       "       [  3.30875442,  -8.02701859,  -2.11602967],\n",
       "       [  0.08959324, -18.7983138 ,  11.95328793],\n",
       "       [ -1.25918184, -28.45561273,  11.44282947],\n",
       "       [ 16.07725113,  -0.29156758,   5.38906814],\n",
       "       [ 15.19641203,  -2.36876831, -10.91445642],\n",
       "       [  2.98405283, -11.61330484,  13.79351454],\n",
       "       [  4.52394344,  -8.97610131,  -2.08274115],\n",
       "       [  0.48112171, -16.24924882,   5.3206955 ],\n",
       "       [  7.39262087,  -7.37146944,   0.99878668],\n",
       "       [ 14.94263084,   0.19695965,   3.65242981],\n",
       "       [ -3.28739957,   3.45206781,  -4.86385458],\n",
       "       [ 17.53419009, -18.16778492,  -2.47072061],\n",
       "       [  9.0537198 , -17.02669477,  -4.65018788],\n",
       "       [ 12.6959948 , -10.74799907,   6.77574989],\n",
       "       [ 16.70284067,  -3.02523699,   7.55415544],\n",
       "       [  9.90498224,  -9.92646908,  -5.97357679],\n",
       "       [ -1.37298347,  -5.26594639,   2.72659889],\n",
       "       [ 14.1116136 ,  -6.10142175,  12.53649303],\n",
       "       [ 14.27256196, -10.12678111,  -5.12890525],\n",
       "       [ -5.8233445 ,   1.48265806, -13.35741171],\n",
       "       [  8.46705591, -11.21348068,  -1.90904623],\n",
       "       [ -9.05910618, -11.00264647,  -0.63777826],\n",
       "       [ 13.14005382,   2.23059568,   5.99667079],\n",
       "       [  6.98705661,  -4.73206279,  -5.27922577],\n",
       "       [ 12.15680559,  -9.28332196,  -6.0353207 ],\n",
       "       [ -8.62525461,   6.85530898,   0.16439128],\n",
       "       [  0.63545778,   5.1484494 ,   4.45582511],\n",
       "       [ -4.87393187,   1.0319624 ,   4.7421813 ],\n",
       "       [  4.86284684,   8.6940524 ,  10.77237776]])"
      ]
     },
     "execution_count": 12,
     "metadata": {},
     "output_type": "execute_result"
    }
   ],
   "source": [
    "loc_samples"
   ]
  },
  {
   "cell_type": "code",
   "execution_count": 13,
   "metadata": {
    "collapsed": true
   },
   "outputs": [],
   "source": [
    "ri = np.random.lognormal(1.28, 0.25, m)/2 # car body sizes\n",
    "r = np.random.lognormal(0.51, 0.07, m)/2 # observer (person) body sizes"
   ]
  },
  {
   "cell_type": "code",
   "execution_count": 14,
   "metadata": {},
   "outputs": [
    {
     "data": {
      "text/plain": [
       "0.0"
      ]
     },
     "execution_count": 14,
     "metadata": {},
     "output_type": "execute_result"
    }
   ],
   "source": [
    "p_collision = 0.0\n",
    "for i in range(m):\n",
    "    if np.linalg.norm(np.array([loc_samples[i,0], loc_samples[i,1], loc_samples[i,2]])) < (ri[i]+r[i]):\n",
    "                      p_collision +=1\n",
    "p_collision /= m\n",
    "p_collision"
   ]
  },
  {
   "cell_type": "code",
   "execution_count": 15,
   "metadata": {},
   "outputs": [
    {
     "data": {
      "text/plain": [
       "<matplotlib.collections.PathCollection at 0x20a323d0438>"
      ]
     },
     "execution_count": 15,
     "metadata": {},
     "output_type": "execute_result"
    },
    {
     "data": {
      "image/png": "[encoded data removed]",
      "text/plain": [
       "<matplotlib.figure.Figure at 0x20a32232be0>"
      ]
     },
     "metadata": {},
     "output_type": "display_data"
    }
   ],
   "source": [
    "plt.scatter(loc_samples[:,0],loc_samples[:,2],alpha=1.0,s=2)"
   ]
  },
  {
   "cell_type": "code",
   "execution_count": 16,
   "metadata": {
    "collapsed": true
   },
   "outputs": [],
   "source": [
    "def circles(x, y, s, c='b', vmin=None, vmax=None, **kwargs):\n",
    "    \"\"\"\n",
    "    Make a scatter of circles plot of x vs y, where x and y are sequence \n",
    "    like objects of the same lengths. The size of circles are in data scale.\n",
    "\n",
    "    Parameters\n",
    "    ----------\n",
    "    x,y : scalar or array_like, shape (n, )\n",
    "        Input data\n",
    "    s : scalar or array_like, shape (n, ) \n",
    "        Radius of circle in data unit.\n",
    "    c : color or sequence of color, optional, default : 'b'\n",
    "        `c` can be a single color format string, or a sequence of color\n",
    "        specifications of length `N`, or a sequence of `N` numbers to be\n",
    "        mapped to colors using the `cmap` and `norm` specified via kwargs.\n",
    "        Note that `c` should not be a single numeric RGB or RGBA sequence \n",
    "        because that is indistinguishable from an array of values\n",
    "        to be colormapped. (If you insist, use `color` instead.)  \n",
    "        `c` can be a 2-D array in which the rows are RGB or RGBA, however. \n",
    "    vmin, vmax : scalar, optional, default: None\n",
    "        `vmin` and `vmax` are used in conjunction with `norm` to normalize\n",
    "        luminance data.  If either are `None`, the min and max of the\n",
    "        color array is used.\n",
    "    kwargs : `~matplotlib.collections.Collection` properties\n",
    "        Eg. alpha, edgecolor(ec), facecolor(fc), linewidth(lw), linestyle(ls), \n",
    "        norm, cmap, transform, etc.\n",
    "\n",
    "    Returns\n",
    "    -------\n",
    "    paths : `~matplotlib.collections.PathCollection`\n",
    "\n",
    "    Examples\n",
    "    --------\n",
    "    a = np.arange(11)\n",
    "    circles(a, a, a*0.2, c=a, alpha=0.5, edgecolor='none')\n",
    "    plt.colorbar()\n",
    "\n",
    "    License\n",
    "    --------\n",
    "    This code is under [The BSD 3-Clause License]\n",
    "    (http://opensource.org/licenses/BSD-3-Clause)\n",
    "    \"\"\"\n",
    "    from matplotlib.patches import Circle\n",
    "    from matplotlib.collections import PatchCollection\n",
    "\n",
    "    if np.isscalar(c):\n",
    "        kwargs.setdefault('color', c)\n",
    "        c = None\n",
    "    if 'fc' in kwargs: kwargs.setdefault('facecolor', kwargs.pop('fc'))\n",
    "    if 'ec' in kwargs: kwargs.setdefault('edgecolor', kwargs.pop('ec'))\n",
    "    if 'ls' in kwargs: kwargs.setdefault('linestyle', kwargs.pop('ls'))\n",
    "    if 'lw' in kwargs: kwargs.setdefault('linewidth', kwargs.pop('lw'))\n",
    "\n",
    "    patches = [Circle((x_, y_), s_) for x_, y_, s_ in np.broadcast(x, y, s)]\n",
    "    collection = PatchCollection(patches, **kwargs)\n",
    "    if c is not None:\n",
    "        collection.set_array(np.asarray(c))\n",
    "        collection.set_clim(vmin, vmax)\n",
    "\n",
    "    ax = plt.gca()\n",
    "    ax.add_collection(collection)\n",
    "    ax.autoscale_view()\n",
    "    if c is not None:\n",
    "        plt.sci(collection)\n",
    "    return collection"
   ]
  },
  {
   "cell_type": "code",
   "execution_count": 17,
   "metadata": {
    "collapsed": true
   },
   "outputs": [],
   "source": [
    "observer_loc = np.zeros((m,1))"
   ]
  },
  {
   "cell_type": "code",
   "execution_count": 18,
   "metadata": {},
   "outputs": [
    {
     "data": {
      "text/plain": [
       "<matplotlib.collections.PatchCollection at 0x20a35820ba8>"
      ]
     },
     "execution_count": 18,
     "metadata": {},
     "output_type": "execute_result"
    },
    {
     "data": {
      "image/png": "[encoded data removed]",
      "text/plain": [
       "<matplotlib.figure.Figure at 0x20a3373f080>"
      ]
     },
     "metadata": {},
     "output_type": "display_data"
    }
   ],
   "source": [
    "circles(loc_samples[:,0],loc_samples[:,2], s=ri[:], c='black', alpha=0.2, edgecolor='none')\n",
    "circles(observer_loc[:],observer_loc[:], s=r[:], c='red', alpha=0.2, edgecolor='none')"
   ]
  },
  {
   "cell_type": "code",
   "execution_count": null,
   "metadata": {
    "collapsed": true
   },
   "outputs": [],
   "source": []
  },
  {
   "cell_type": "code",
   "execution_count": null,
   "metadata": {
    "collapsed": true
   },
   "outputs": [],
   "source": []
  }
 ],
 "metadata": {
  "kernelspec": {
   "display_name": "Python 3",
   "language": "python",
   "name": "python3"
  },
  "language_info": {
   "codemirror_mode": {
    "name": "ipython",
    "version": 3
   },
   "file_extension": ".py",
   "mimetype": "text/x-python",
   "name": "python",
   "nbconvert_exporter": "python",
   "pygments_lexer": "ipython3",
   "version": "3.6.2"
  }
 },
 "nbformat": 4,
 "nbformat_minor": 2
}
