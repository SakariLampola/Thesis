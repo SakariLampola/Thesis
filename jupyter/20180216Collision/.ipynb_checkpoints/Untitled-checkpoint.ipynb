{
 "cells": [
  {
   "cell_type": "code",
   "execution_count": 1,
   "metadata": {
    "collapsed": true
   },
   "outputs": [],
   "source": [
    "import numpy as np\n",
    "import pandas as pd\n",
    "import matplotlib.pylab as plt\n",
    "import seaborn as sns\n",
    "%matplotlib inline\n",
    "sns.set(style=\"whitegrid\", color_codes=True)"
   ]
  },
  {
   "cell_type": "code",
   "execution_count": 2,
   "metadata": {},
   "outputs": [
    {
     "data": {
      "text/plain": [
       "(25977, 91)"
      ]
     },
     "execution_count": 2,
     "metadata": {},
     "output_type": "execute_result"
    }
   ],
   "source": [
    "data = pd.read_csv('Body.txt')\n",
    "data.shape"
   ]
  },
  {
   "cell_type": "code",
   "execution_count": 3,
   "metadata": {},
   "outputs": [
    {
     "data": {
      "text/html": [
       "<div>\n",
       "<style>\n",
       "    .dataframe thead tr:only-child th {\n",
       "        text-align: right;\n",
       "    }\n",
       "\n",
       "    .dataframe thead th {\n",
       "        text-align: left;\n",
       "    }\n",
       "\n",
       "    .dataframe tbody tr th {\n",
       "        vertical-align: top;\n",
       "    }\n",
       "</style>\n",
       "<table border=\"1\" class=\"dataframe\">\n",
       "  <thead>\n",
       "    <tr style=\"text-align: right;\">\n",
       "      <th></th>\n",
       "      <th>time</th>\n",
       "      <th>id</th>\n",
       "      <th>class_id</th>\n",
       "      <th>x</th>\n",
       "      <th>y</th>\n",
       "      <th>z</th>\n",
       "      <th>vx</th>\n",
       "      <th>vy</th>\n",
       "      <th>vz</th>\n",
       "      <th>sigma_00</th>\n",
       "      <th>...</th>\n",
       "      <th>c_sigma_42</th>\n",
       "      <th>c_sigma_43</th>\n",
       "      <th>c_sigma_44</th>\n",
       "      <th>c_sigma_45</th>\n",
       "      <th>c_sigma_50</th>\n",
       "      <th>c_sigma_51</th>\n",
       "      <th>c_sigma_52</th>\n",
       "      <th>c_sigma_53</th>\n",
       "      <th>c_sigma_54</th>\n",
       "      <th>c_sigma_55</th>\n",
       "    </tr>\n",
       "  </thead>\n",
       "  <tbody>\n",
       "    <tr>\n",
       "      <th>0</th>\n",
       "      <td>0.00</td>\n",
       "      <td>2457833853504</td>\n",
       "      <td>7</td>\n",
       "      <td>3.452</td>\n",
       "      <td>-0.145</td>\n",
       "      <td>-96.541</td>\n",
       "      <td>0.000</td>\n",
       "      <td>0.000</td>\n",
       "      <td>0.000</td>\n",
       "      <td>199.601</td>\n",
       "      <td>...</td>\n",
       "      <td>0.0</td>\n",
       "      <td>0.0</td>\n",
       "      <td>99840.574</td>\n",
       "      <td>0.0</td>\n",
       "      <td>0.0</td>\n",
       "      <td>0.0</td>\n",
       "      <td>1006.377</td>\n",
       "      <td>0.0</td>\n",
       "      <td>0.0</td>\n",
       "      <td>99840.574</td>\n",
       "    </tr>\n",
       "    <tr>\n",
       "      <th>1</th>\n",
       "      <td>0.00</td>\n",
       "      <td>2457833853728</td>\n",
       "      <td>7</td>\n",
       "      <td>-0.226</td>\n",
       "      <td>-1.349</td>\n",
       "      <td>-89.454</td>\n",
       "      <td>0.000</td>\n",
       "      <td>0.000</td>\n",
       "      <td>0.000</td>\n",
       "      <td>199.601</td>\n",
       "      <td>...</td>\n",
       "      <td>0.0</td>\n",
       "      <td>0.0</td>\n",
       "      <td>99840.574</td>\n",
       "      <td>0.0</td>\n",
       "      <td>0.0</td>\n",
       "      <td>0.0</td>\n",
       "      <td>1006.377</td>\n",
       "      <td>0.0</td>\n",
       "      <td>0.0</td>\n",
       "      <td>99840.574</td>\n",
       "    </tr>\n",
       "    <tr>\n",
       "      <th>2</th>\n",
       "      <td>0.04</td>\n",
       "      <td>2457833853504</td>\n",
       "      <td>7</td>\n",
       "      <td>3.507</td>\n",
       "      <td>-0.183</td>\n",
       "      <td>-96.872</td>\n",
       "      <td>0.612</td>\n",
       "      <td>-0.426</td>\n",
       "      <td>-3.685</td>\n",
       "      <td>128.569</td>\n",
       "      <td>...</td>\n",
       "      <td>0.0</td>\n",
       "      <td>0.0</td>\n",
       "      <td>99840.574</td>\n",
       "      <td>0.0</td>\n",
       "      <td>0.0</td>\n",
       "      <td>0.0</td>\n",
       "      <td>1006.377</td>\n",
       "      <td>0.0</td>\n",
       "      <td>0.0</td>\n",
       "      <td>99840.574</td>\n",
       "    </tr>\n",
       "    <tr>\n",
       "      <th>3</th>\n",
       "      <td>0.04</td>\n",
       "      <td>2457833853728</td>\n",
       "      <td>7</td>\n",
       "      <td>-0.209</td>\n",
       "      <td>-1.372</td>\n",
       "      <td>-88.698</td>\n",
       "      <td>0.182</td>\n",
       "      <td>-0.255</td>\n",
       "      <td>8.404</td>\n",
       "      <td>128.569</td>\n",
       "      <td>...</td>\n",
       "      <td>0.0</td>\n",
       "      <td>0.0</td>\n",
       "      <td>99840.574</td>\n",
       "      <td>0.0</td>\n",
       "      <td>0.0</td>\n",
       "      <td>0.0</td>\n",
       "      <td>1006.377</td>\n",
       "      <td>0.0</td>\n",
       "      <td>0.0</td>\n",
       "      <td>99840.574</td>\n",
       "    </tr>\n",
       "    <tr>\n",
       "      <th>4</th>\n",
       "      <td>0.08</td>\n",
       "      <td>2457833853504</td>\n",
       "      <td>7</td>\n",
       "      <td>3.579</td>\n",
       "      <td>-0.228</td>\n",
       "      <td>-97.404</td>\n",
       "      <td>1.181</td>\n",
       "      <td>-0.758</td>\n",
       "      <td>-8.294</td>\n",
       "      <td>128.173</td>\n",
       "      <td>...</td>\n",
       "      <td>0.0</td>\n",
       "      <td>0.0</td>\n",
       "      <td>99840.574</td>\n",
       "      <td>0.0</td>\n",
       "      <td>0.0</td>\n",
       "      <td>0.0</td>\n",
       "      <td>1006.377</td>\n",
       "      <td>0.0</td>\n",
       "      <td>0.0</td>\n",
       "      <td>99840.574</td>\n",
       "    </tr>\n",
       "  </tbody>\n",
       "</table>\n",
       "<p>5 rows × 91 columns</p>\n",
       "</div>"
      ],
      "text/plain": [
       "   time             id  class_id      x      y       z     vx     vy     vz  \\\n",
       "0  0.00  2457833853504         7  3.452 -0.145 -96.541  0.000  0.000  0.000   \n",
       "1  0.00  2457833853728         7 -0.226 -1.349 -89.454  0.000  0.000  0.000   \n",
       "2  0.04  2457833853504         7  3.507 -0.183 -96.872  0.612 -0.426 -3.685   \n",
       "3  0.04  2457833853728         7 -0.209 -1.372 -88.698  0.182 -0.255  8.404   \n",
       "4  0.08  2457833853504         7  3.579 -0.228 -97.404  1.181 -0.758 -8.294   \n",
       "\n",
       "   sigma_00     ...      c_sigma_42  c_sigma_43  c_sigma_44  c_sigma_45  \\\n",
       "0   199.601     ...             0.0         0.0   99840.574         0.0   \n",
       "1   199.601     ...             0.0         0.0   99840.574         0.0   \n",
       "2   128.569     ...             0.0         0.0   99840.574         0.0   \n",
       "3   128.569     ...             0.0         0.0   99840.574         0.0   \n",
       "4   128.173     ...             0.0         0.0   99840.574         0.0   \n",
       "\n",
       "   c_sigma_50  c_sigma_51  c_sigma_52  c_sigma_53  c_sigma_54  c_sigma_55  \n",
       "0         0.0         0.0    1006.377         0.0         0.0   99840.574  \n",
       "1         0.0         0.0    1006.377         0.0         0.0   99840.574  \n",
       "2         0.0         0.0    1006.377         0.0         0.0   99840.574  \n",
       "3         0.0         0.0    1006.377         0.0         0.0   99840.574  \n",
       "4         0.0         0.0    1006.377         0.0         0.0   99840.574  \n",
       "\n",
       "[5 rows x 91 columns]"
      ]
     },
     "execution_count": 3,
     "metadata": {},
     "output_type": "execute_result"
    }
   ],
   "source": [
    "data.head()"
   ]
  },
  {
   "cell_type": "code",
   "execution_count": 4,
   "metadata": {},
   "outputs": [
    {
     "data": {
      "text/plain": [
       "2885"
      ]
     },
     "execution_count": 4,
     "metadata": {},
     "output_type": "execute_result"
    }
   ],
   "source": [
    "data['collision_p'].argmax()"
   ]
  },
  {
   "cell_type": "code",
   "execution_count": 5,
   "metadata": {},
   "outputs": [
    {
     "data": {
      "text/plain": [
       "0.0080000000000000002"
      ]
     },
     "execution_count": 5,
     "metadata": {},
     "output_type": "execute_result"
    }
   ],
   "source": [
    "data.iloc[2885].collision_p"
   ]
  },
  {
   "cell_type": "code",
   "execution_count": 6,
   "metadata": {},
   "outputs": [
    {
     "data": {
      "text/plain": [
       "array([ 5.978, -6.696, -0.991])"
      ]
     },
     "execution_count": 6,
     "metadata": {},
     "output_type": "execute_result"
    }
   ],
   "source": [
    "mu=np.array([data.iloc[2885].c_x, data.iloc[2885].c_y, data.iloc[2885].c_z])\n",
    "mu"
   ]
  },
  {
   "cell_type": "code",
   "execution_count": 7,
   "metadata": {
    "collapsed": true
   },
   "outputs": [],
   "source": [
    "s00=data.iloc[2885].c_sigma_00\n",
    "s01=data.iloc[2885].c_sigma_01\n",
    "s02=data.iloc[2885].c_sigma_02\n",
    "s10=data.iloc[2885].c_sigma_10\n",
    "s11=data.iloc[2885].c_sigma_11\n",
    "s12=data.iloc[2885].c_sigma_12\n",
    "s20=data.iloc[2885].c_sigma_20\n",
    "s21=data.iloc[2885].c_sigma_21\n",
    "s22=data.iloc[2885].c_sigma_22\n",
    "s30=data.iloc[2885].c_sigma_20\n",
    "s31=data.iloc[2885].c_sigma_31\n",
    "s32=data.iloc[2885].c_sigma_32"
   ]
  },
  {
   "cell_type": "code",
   "execution_count": 8,
   "metadata": {
    "collapsed": true
   },
   "outputs": [],
   "source": [
    "v = np.array([[s00, s01, s02],\n",
    "              [s10, s11, s12],\n",
    "              [s20, s21, s22]])"
   ]
  },
  {
   "cell_type": "code",
   "execution_count": 9,
   "metadata": {},
   "outputs": [
    {
     "data": {
      "text/plain": [
       "array([[ 58.632,   0.   ,   0.   ],\n",
       "       [  0.   ,  58.632,   0.   ],\n",
       "       [  0.   ,   0.   ,  58.632]])"
      ]
     },
     "execution_count": 9,
     "metadata": {},
     "output_type": "execute_result"
    }
   ],
   "source": [
    "v"
   ]
  },
  {
   "cell_type": "code",
   "execution_count": 12,
   "metadata": {
    "collapsed": true
   },
   "outputs": [],
   "source": [
    "m=100"
   ]
  },
  {
   "cell_type": "code",
   "execution_count": 13,
   "metadata": {
    "collapsed": true
   },
   "outputs": [],
   "source": [
    "loc_samples = np.random.multivariate_normal(mu, v, m)"
   ]
  },
  {
   "cell_type": "code",
   "execution_count": 14,
   "metadata": {},
   "outputs": [
    {
     "data": {
      "text/plain": [
       "array([[  1.71659499e+01,  -7.12288501e+00,   4.67225201e+00],\n",
       "       [  4.48745102e+00,  -2.36059984e+00,   4.28466270e+00],\n",
       "       [  2.22621120e+00,  -9.60283868e+00,  -1.21942096e+00],\n",
       "       [  7.73451220e+00,  -3.04777882e+00,   2.07589202e+00],\n",
       "       [  1.29018599e+01,  -5.27021429e-01,   9.88362083e-01],\n",
       "       [  6.95527412e+00,  -4.02730360e+00,   4.91302832e-01],\n",
       "       [  8.55839575e+00,  -2.21057807e+01,  -1.79279820e+00],\n",
       "       [  1.47247892e+01,  -2.32112464e-02,  -8.67089525e+00],\n",
       "       [ -1.63728722e+00,  -6.16547341e+00,  -1.04184804e+01],\n",
       "       [  4.25121093e+00,  -6.55965224e+00,  -1.53590681e+01],\n",
       "       [  6.93146541e+00,   2.15264227e+00,  -1.59877665e+01],\n",
       "       [  1.35334176e+01,  -1.52415178e+01,   7.25269098e+00],\n",
       "       [  9.75542421e+00,  -1.64730358e+01,  -4.27383459e+00],\n",
       "       [ -4.23609771e+00,  -1.14478349e+01,  -5.39640668e-01],\n",
       "       [  9.77423817e+00,  -8.14194670e+00,   3.17423179e+00],\n",
       "       [  1.12583892e+01,  -2.30830907e+00,   1.16720811e+00],\n",
       "       [ -9.71867600e+00,  -3.98415627e+00,   1.05698415e+00],\n",
       "       [ -1.16867413e-01,  -1.99983856e+01,   1.74379743e+00],\n",
       "       [  1.51801390e+01,  -1.21356235e-02,  -5.78415177e+00],\n",
       "       [  4.54620486e+00,  -1.04143868e+01,  -5.71441198e+00],\n",
       "       [  2.25437567e+01,  -1.44120233e+01,  -7.01804966e+00],\n",
       "       [  7.25966791e+00,   7.39297281e+00,   4.54189019e+00],\n",
       "       [ -6.62752165e+00,  -1.19996908e+01,  -2.92867567e+00],\n",
       "       [ -5.51955810e+00,  -1.76729744e+00,   1.71039249e-01],\n",
       "       [  2.86253170e+00,  -5.55338290e+00,  -5.79234760e+00],\n",
       "       [  4.49296325e+00,  -3.77636498e+00,  -1.15032076e+01],\n",
       "       [  2.11869747e-01,  -6.75465135e+00,   1.14743872e+01],\n",
       "       [  1.03080671e+01,  -1.61012874e+01,  -8.91123219e+00],\n",
       "       [  4.21957415e+00,  -2.64345983e+00,  -2.43777555e+00],\n",
       "       [ -9.86798682e-01,  -1.84556428e+01,   4.82456757e+00],\n",
       "       [ -6.22439097e+00,  -1.89469390e+01,  -1.27841460e+01],\n",
       "       [  1.28640591e+01,  -1.24920427e+01,   1.11125528e+01],\n",
       "       [  6.70961825e+00,  -4.32614752e+00,  -1.39620362e+00],\n",
       "       [  1.83301630e+00,  -1.69165869e+01,   1.49885589e+00],\n",
       "       [  8.52203254e+00,  -2.90307144e+00,   7.91664822e+00],\n",
       "       [  4.12669612e+00,  -2.32333397e+01,   2.82357666e+00],\n",
       "       [ -3.58851600e+00,  -1.86114439e+01,  -1.15408756e+01],\n",
       "       [  8.15280934e-02,  -1.59686491e+00,   5.96633237e+00],\n",
       "       [  2.36859884e+00,  -1.60229895e+01,  -8.19944401e+00],\n",
       "       [  1.36304167e+01,  -1.29990967e+01,  -7.80863708e+00],\n",
       "       [  1.50534558e+01,  -3.38644001e+00,  -7.79693735e+00],\n",
       "       [ -3.82146554e+00,   7.74066517e+00,  -3.19997491e+00],\n",
       "       [  4.00431386e-01,  -5.12765305e+00,   1.57809011e+00],\n",
       "       [  1.16544381e+01,  -1.02505640e+01,  -9.17609491e+00],\n",
       "       [  8.86738179e+00,  -1.39447618e+01,   6.69426292e+00],\n",
       "       [ -1.36193713e+01,  -2.33431596e+01,  -5.58849250e+00],\n",
       "       [  1.03584379e+01,  -8.22095759e+00,  -1.14467329e+01],\n",
       "       [  7.90394235e+00,  -2.83025579e+01,   4.97858171e-02],\n",
       "       [ -7.09274601e+00,  -1.39363873e+01,   4.47718363e+00],\n",
       "       [  3.41961546e+00,  -3.42281338e+00,   1.05320549e+01],\n",
       "       [ -6.43017972e-02,   1.26475911e+00,   3.03870170e+00],\n",
       "       [  1.84492832e+01,  -1.76682835e+01,  -2.26934577e+00],\n",
       "       [ -5.02842738e+00,  -1.47566911e+00,   2.13476609e+00],\n",
       "       [  8.28435619e+00,   1.12084293e+01,   6.86019946e+00],\n",
       "       [  6.58431592e+00,  -4.49014990e-01,   1.41162040e+01],\n",
       "       [  4.77980011e-01,  -9.47077171e+00,   8.63378987e+00],\n",
       "       [  8.96514419e-01,  -1.65827198e+01,  -4.26543236e+00],\n",
       "       [  7.96494607e+00,   1.15758123e+00,  -1.41383505e+01],\n",
       "       [ -5.51841460e+00,  -9.25032501e+00,   5.71406279e+00],\n",
       "       [  1.27918129e+01,   1.40916830e+01,   8.79971265e-01],\n",
       "       [  6.01546646e-01,  -3.75572724e+00,  -6.57521509e-02],\n",
       "       [  1.29324875e+01,   6.19132252e+00,  -4.47892866e+00],\n",
       "       [  8.18350381e+00,  -4.38698282e+00,  -2.55966351e-01],\n",
       "       [  1.61477677e+01,   1.67231988e+00,  -4.13881233e+00],\n",
       "       [  5.60225886e+00,  -2.94317641e+00,   3.49316156e+00],\n",
       "       [ -2.58167986e+00,   8.39103769e+00,  -9.07117471e+00],\n",
       "       [  1.00529283e+00,   5.95640085e+00,  -2.09230449e+00],\n",
       "       [  1.33760859e+01,   5.80143809e+00,   2.09180326e+00],\n",
       "       [ -7.91038318e+00,  -2.13619164e+01,   6.99679120e+00],\n",
       "       [  1.01161861e+00,  -1.34224471e+01,  -2.85947223e+00],\n",
       "       [  1.92954703e+00,  -1.25821890e+01,  -7.85047101e+00],\n",
       "       [  1.68602383e+01,  -8.59040145e+00,  -5.09047097e+00],\n",
       "       [  8.95312639e+00,  -9.87579906e+00,   1.61580798e+01],\n",
       "       [ -3.30068501e+00,  -4.91064819e+00,  -1.45237194e+00],\n",
       "       [  1.10016863e+01,  -8.58307920e+00,  -7.10281801e+00],\n",
       "       [  8.96924730e+00,   5.17659651e+00,  -1.15118879e+01],\n",
       "       [  1.39600371e+01,  -1.68144321e+01,  -7.84762591e+00],\n",
       "       [  5.41543903e+00,  -1.18363837e+01,   1.61334594e+00],\n",
       "       [  2.41999467e+00,  -5.10639647e+00,  -3.64151776e+00],\n",
       "       [  2.35248855e+00,  -3.15682049e+00,   8.70862717e+00],\n",
       "       [  3.71402573e+00,   1.35195776e+00,   1.85066331e+01],\n",
       "       [  8.19437177e-01,   5.49067285e+00,   9.55395527e+00],\n",
       "       [  1.10407937e+01,  -9.34682267e+00,   7.24372097e+00],\n",
       "       [  1.45340405e+01,  -1.42568720e+01,  -2.09762282e-01],\n",
       "       [  1.47034793e+01,  -8.84080829e+00,  -1.70199025e+00],\n",
       "       [  6.76051040e+00,  -4.64761690e+00,   2.33247150e+00],\n",
       "       [  9.84511512e+00,   4.75310405e-01,  -1.26849645e+01],\n",
       "       [  5.07098185e+00,  -6.63915903e+00,   9.69556448e+00],\n",
       "       [  1.49637437e+01,  -7.27406400e+00,  -7.87448011e+00],\n",
       "       [ -4.47618885e+00,  -1.00390446e+01,   6.63901231e+00],\n",
       "       [  1.88334534e+00,  -9.15565394e+00,   1.28289117e+01],\n",
       "       [  5.98276981e+00,  -2.41052135e+00,  -1.42514070e+00],\n",
       "       [ -2.47319558e+00,  -9.70871073e+00,   8.08934724e+00],\n",
       "       [ -4.66471458e+00,  -1.11388825e+01,   2.05784970e+01],\n",
       "       [  1.80662660e+00,  -6.24516082e+00,   1.16354226e+01],\n",
       "       [ -5.09313648e+00,  -1.70386265e-01,   6.67120160e-01],\n",
       "       [  1.21371478e+01,  -4.04022660e+00,  -1.29139215e+01],\n",
       "       [  2.07609089e+00,  -8.73792966e+00,   1.31507270e+00],\n",
       "       [  7.87417586e+00,   1.14567470e+01,   1.32461789e+00],\n",
       "       [ -5.91187589e+00,  -1.72377224e+01,  -2.30415096e+00]])"
      ]
     },
     "execution_count": 14,
     "metadata": {},
     "output_type": "execute_result"
    }
   ],
   "source": [
    "loc_samples"
   ]
  },
  {
   "cell_type": "code",
   "execution_count": 15,
   "metadata": {
    "collapsed": true
   },
   "outputs": [],
   "source": [
    "ri = np.random.lognormal(1.28, 0.25, m)/2 # car body sizes\n",
    "r = np.random.lognormal(0.51, 0.07, m)/2 # observer (person) body sizes"
   ]
  },
  {
   "cell_type": "code",
   "execution_count": 16,
   "metadata": {},
   "outputs": [
    {
     "data": {
      "text/plain": [
       "0.0"
      ]
     },
     "execution_count": 16,
     "metadata": {},
     "output_type": "execute_result"
    }
   ],
   "source": [
    "p_collision = 0.0\n",
    "for i in range(m):\n",
    "    if np.linalg.norm(np.array([loc_samples[i,0], loc_samples[i,1], loc_samples[i,2]])) < (ri[i]+r[i]):\n",
    "                      p_collision +=1\n",
    "p_collision /= m\n",
    "p_collision"
   ]
  },
  {
   "cell_type": "code",
   "execution_count": 17,
   "metadata": {},
   "outputs": [
    {
     "data": {
      "text/plain": [
       "<matplotlib.collections.PathCollection at 0x175dbabe5c0>"
      ]
     },
     "execution_count": 17,
     "metadata": {},
     "output_type": "execute_result"
    },
    {
     "data": {
      "image/png": "[encoded data removed]",
      "text/plain": [
       "<matplotlib.figure.Figure at 0x175db919cf8>"
      ]
     },
     "metadata": {},
     "output_type": "display_data"
    }
   ],
   "source": [
    "plt.scatter(loc_samples[:,0],loc_samples[:,2],alpha=1.0,s=2)"
   ]
  },
  {
   "cell_type": "code",
   "execution_count": 18,
   "metadata": {
    "collapsed": true
   },
   "outputs": [],
   "source": [
    "def circles(x, y, s, c='b', vmin=None, vmax=None, **kwargs):\n",
    "    \"\"\"\n",
    "    Make a scatter of circles plot of x vs y, where x and y are sequence \n",
    "    like objects of the same lengths. The size of circles are in data scale.\n",
    "\n",
    "    Parameters\n",
    "    ----------\n",
    "    x,y : scalar or array_like, shape (n, )\n",
    "        Input data\n",
    "    s : scalar or array_like, shape (n, ) \n",
    "        Radius of circle in data unit.\n",
    "    c : color or sequence of color, optional, default : 'b'\n",
    "        `c` can be a single color format string, or a sequence of color\n",
    "        specifications of length `N`, or a sequence of `N` numbers to be\n",
    "        mapped to colors using the `cmap` and `norm` specified via kwargs.\n",
    "        Note that `c` should not be a single numeric RGB or RGBA sequence \n",
    "        because that is indistinguishable from an array of values\n",
    "        to be colormapped. (If you insist, use `color` instead.)  \n",
    "        `c` can be a 2-D array in which the rows are RGB or RGBA, however. \n",
    "    vmin, vmax : scalar, optional, default: None\n",
    "        `vmin` and `vmax` are used in conjunction with `norm` to normalize\n",
    "        luminance data.  If either are `None`, the min and max of the\n",
    "        color array is used.\n",
    "    kwargs : `~matplotlib.collections.Collection` properties\n",
    "        Eg. alpha, edgecolor(ec), facecolor(fc), linewidth(lw), linestyle(ls), \n",
    "        norm, cmap, transform, etc.\n",
    "\n",
    "    Returns\n",
    "    -------\n",
    "    paths : `~matplotlib.collections.PathCollection`\n",
    "\n",
    "    Examples\n",
    "    --------\n",
    "    a = np.arange(11)\n",
    "    circles(a, a, a*0.2, c=a, alpha=0.5, edgecolor='none')\n",
    "    plt.colorbar()\n",
    "\n",
    "    License\n",
    "    --------\n",
    "    This code is under [The BSD 3-Clause License]\n",
    "    (http://opensource.org/licenses/BSD-3-Clause)\n",
    "    \"\"\"\n",
    "    from matplotlib.patches import Circle\n",
    "    from matplotlib.collections import PatchCollection\n",
    "\n",
    "    if np.isscalar(c):\n",
    "        kwargs.setdefault('color', c)\n",
    "        c = None\n",
    "    if 'fc' in kwargs: kwargs.setdefault('facecolor', kwargs.pop('fc'))\n",
    "    if 'ec' in kwargs: kwargs.setdefault('edgecolor', kwargs.pop('ec'))\n",
    "    if 'ls' in kwargs: kwargs.setdefault('linestyle', kwargs.pop('ls'))\n",
    "    if 'lw' in kwargs: kwargs.setdefault('linewidth', kwargs.pop('lw'))\n",
    "\n",
    "    patches = [Circle((x_, y_), s_) for x_, y_, s_ in np.broadcast(x, y, s)]\n",
    "    collection = PatchCollection(patches, **kwargs)\n",
    "    if c is not None:\n",
    "        collection.set_array(np.asarray(c))\n",
    "        collection.set_clim(vmin, vmax)\n",
    "\n",
    "    ax = plt.gca()\n",
    "    ax.add_collection(collection)\n",
    "    ax.autoscale_view()\n",
    "    if c is not None:\n",
    "        plt.sci(collection)\n",
    "    return collection"
   ]
  },
  {
   "cell_type": "code",
   "execution_count": 19,
   "metadata": {
    "collapsed": true
   },
   "outputs": [],
   "source": [
    "observer_loc = np.zeros((m,1))"
   ]
  },
  {
   "cell_type": "code",
   "execution_count": 26,
   "metadata": {},
   "outputs": [
    {
     "data": {
      "text/plain": [
       "<matplotlib.collections.PatchCollection at 0x175dd93a940>"
      ]
     },
     "execution_count": 26,
     "metadata": {},
     "output_type": "execute_result"
    },
    {
     "data": {
      "image/png": "[encoded data removed]",
      "text/plain": [
       "<matplotlib.figure.Figure at 0x175df0914a8>"
      ]
     },
     "metadata": {},
     "output_type": "display_data"
    }
   ],
   "source": [
    "circles(loc_samples[:,0],loc_samples[:,2], s=ri[:], c='black', alpha=0.2, edgecolor='none')\n",
    "circles(observer_loc[:],observer_loc[:], s=r[:], c='red', alpha=0.2, edgecolor='none')"
   ]
  },
  {
   "cell_type": "code",
   "execution_count": null,
   "metadata": {},
   "outputs": [],
   "source": []
  },
  {
   "cell_type": "code",
   "execution_count": null,
   "metadata": {
    "collapsed": true
   },
   "outputs": [],
   "source": []
  }
 ],
 "metadata": {
  "kernelspec": {
   "display_name": "Python 3",
   "language": "python",
   "name": "python3"
  },
  "language_info": {
   "codemirror_mode": {
    "name": "ipython",
    "version": 3
   },
   "file_extension": ".py",
   "mimetype": "text/x-python",
   "name": "python",
   "nbconvert_exporter": "python",
   "pygments_lexer": "ipython3",
   "version": "3.6.2"
  }
 },
 "nbformat": 4,
 "nbformat_minor": 2
}
