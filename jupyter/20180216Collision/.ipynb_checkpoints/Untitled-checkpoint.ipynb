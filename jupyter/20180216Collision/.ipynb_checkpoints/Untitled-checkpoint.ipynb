{
 "cells": [
  {
   "cell_type": "code",
   "execution_count": 36,
   "metadata": {
    "collapsed": true
   },
   "outputs": [],
   "source": [
    "import numpy as np\n",
    "import pandas as pd\n",
    "import matplotlib.pylab as plt\n",
    "import seaborn as sns\n",
    "%matplotlib inline\n",
    "sns.set(style=\"whitegrid\", color_codes=True)"
   ]
  },
  {
   "cell_type": "code",
   "execution_count": 37,
   "metadata": {},
   "outputs": [
    {
     "data": {
      "text/plain": [
       "(25977, 91)"
      ]
     },
     "execution_count": 37,
     "metadata": {},
     "output_type": "execute_result"
    }
   ],
   "source": [
    "data = pd.read_csv('Body.txt')\n",
    "data.shape"
   ]
  },
  {
   "cell_type": "code",
   "execution_count": 38,
   "metadata": {},
   "outputs": [
    {
     "data": {
      "text/html": [
       "<div>\n",
       "<style>\n",
       "    .dataframe thead tr:only-child th {\n",
       "        text-align: right;\n",
       "    }\n",
       "\n",
       "    .dataframe thead th {\n",
       "        text-align: left;\n",
       "    }\n",
       "\n",
       "    .dataframe tbody tr th {\n",
       "        vertical-align: top;\n",
       "    }\n",
       "</style>\n",
       "<table border=\"1\" class=\"dataframe\">\n",
       "  <thead>\n",
       "    <tr style=\"text-align: right;\">\n",
       "      <th></th>\n",
       "      <th>time</th>\n",
       "      <th>id</th>\n",
       "      <th>class_id</th>\n",
       "      <th>x</th>\n",
       "      <th>y</th>\n",
       "      <th>z</th>\n",
       "      <th>vx</th>\n",
       "      <th>vy</th>\n",
       "      <th>vz</th>\n",
       "      <th>sigma_00</th>\n",
       "      <th>...</th>\n",
       "      <th>c_sigma_42</th>\n",
       "      <th>c_sigma_43</th>\n",
       "      <th>c_sigma_44</th>\n",
       "      <th>c_sigma_45</th>\n",
       "      <th>c_sigma_50</th>\n",
       "      <th>c_sigma_51</th>\n",
       "      <th>c_sigma_52</th>\n",
       "      <th>c_sigma_53</th>\n",
       "      <th>c_sigma_54</th>\n",
       "      <th>c_sigma_55</th>\n",
       "    </tr>\n",
       "  </thead>\n",
       "  <tbody>\n",
       "    <tr>\n",
       "      <th>0</th>\n",
       "      <td>0.00</td>\n",
       "      <td>2457833853504</td>\n",
       "      <td>7</td>\n",
       "      <td>3.452</td>\n",
       "      <td>-0.145</td>\n",
       "      <td>-96.541</td>\n",
       "      <td>0.000</td>\n",
       "      <td>0.000</td>\n",
       "      <td>0.000</td>\n",
       "      <td>199.601</td>\n",
       "      <td>...</td>\n",
       "      <td>0.0</td>\n",
       "      <td>0.0</td>\n",
       "      <td>99840.574</td>\n",
       "      <td>0.0</td>\n",
       "      <td>0.0</td>\n",
       "      <td>0.0</td>\n",
       "      <td>1006.377</td>\n",
       "      <td>0.0</td>\n",
       "      <td>0.0</td>\n",
       "      <td>99840.574</td>\n",
       "    </tr>\n",
       "    <tr>\n",
       "      <th>1</th>\n",
       "      <td>0.00</td>\n",
       "      <td>2457833853728</td>\n",
       "      <td>7</td>\n",
       "      <td>-0.226</td>\n",
       "      <td>-1.349</td>\n",
       "      <td>-89.454</td>\n",
       "      <td>0.000</td>\n",
       "      <td>0.000</td>\n",
       "      <td>0.000</td>\n",
       "      <td>199.601</td>\n",
       "      <td>...</td>\n",
       "      <td>0.0</td>\n",
       "      <td>0.0</td>\n",
       "      <td>99840.574</td>\n",
       "      <td>0.0</td>\n",
       "      <td>0.0</td>\n",
       "      <td>0.0</td>\n",
       "      <td>1006.377</td>\n",
       "      <td>0.0</td>\n",
       "      <td>0.0</td>\n",
       "      <td>99840.574</td>\n",
       "    </tr>\n",
       "    <tr>\n",
       "      <th>2</th>\n",
       "      <td>0.04</td>\n",
       "      <td>2457833853504</td>\n",
       "      <td>7</td>\n",
       "      <td>3.507</td>\n",
       "      <td>-0.183</td>\n",
       "      <td>-96.872</td>\n",
       "      <td>0.612</td>\n",
       "      <td>-0.426</td>\n",
       "      <td>-3.685</td>\n",
       "      <td>128.569</td>\n",
       "      <td>...</td>\n",
       "      <td>0.0</td>\n",
       "      <td>0.0</td>\n",
       "      <td>99840.574</td>\n",
       "      <td>0.0</td>\n",
       "      <td>0.0</td>\n",
       "      <td>0.0</td>\n",
       "      <td>1006.377</td>\n",
       "      <td>0.0</td>\n",
       "      <td>0.0</td>\n",
       "      <td>99840.574</td>\n",
       "    </tr>\n",
       "    <tr>\n",
       "      <th>3</th>\n",
       "      <td>0.04</td>\n",
       "      <td>2457833853728</td>\n",
       "      <td>7</td>\n",
       "      <td>-0.209</td>\n",
       "      <td>-1.372</td>\n",
       "      <td>-88.698</td>\n",
       "      <td>0.182</td>\n",
       "      <td>-0.255</td>\n",
       "      <td>8.404</td>\n",
       "      <td>128.569</td>\n",
       "      <td>...</td>\n",
       "      <td>0.0</td>\n",
       "      <td>0.0</td>\n",
       "      <td>99840.574</td>\n",
       "      <td>0.0</td>\n",
       "      <td>0.0</td>\n",
       "      <td>0.0</td>\n",
       "      <td>1006.377</td>\n",
       "      <td>0.0</td>\n",
       "      <td>0.0</td>\n",
       "      <td>99840.574</td>\n",
       "    </tr>\n",
       "    <tr>\n",
       "      <th>4</th>\n",
       "      <td>0.08</td>\n",
       "      <td>2457833853504</td>\n",
       "      <td>7</td>\n",
       "      <td>3.579</td>\n",
       "      <td>-0.228</td>\n",
       "      <td>-97.404</td>\n",
       "      <td>1.181</td>\n",
       "      <td>-0.758</td>\n",
       "      <td>-8.294</td>\n",
       "      <td>128.173</td>\n",
       "      <td>...</td>\n",
       "      <td>0.0</td>\n",
       "      <td>0.0</td>\n",
       "      <td>99840.574</td>\n",
       "      <td>0.0</td>\n",
       "      <td>0.0</td>\n",
       "      <td>0.0</td>\n",
       "      <td>1006.377</td>\n",
       "      <td>0.0</td>\n",
       "      <td>0.0</td>\n",
       "      <td>99840.574</td>\n",
       "    </tr>\n",
       "  </tbody>\n",
       "</table>\n",
       "<p>5 rows × 91 columns</p>\n",
       "</div>"
      ],
      "text/plain": [
       "   time             id  class_id      x      y       z     vx     vy     vz  \\\n",
       "0  0.00  2457833853504         7  3.452 -0.145 -96.541  0.000  0.000  0.000   \n",
       "1  0.00  2457833853728         7 -0.226 -1.349 -89.454  0.000  0.000  0.000   \n",
       "2  0.04  2457833853504         7  3.507 -0.183 -96.872  0.612 -0.426 -3.685   \n",
       "3  0.04  2457833853728         7 -0.209 -1.372 -88.698  0.182 -0.255  8.404   \n",
       "4  0.08  2457833853504         7  3.579 -0.228 -97.404  1.181 -0.758 -8.294   \n",
       "\n",
       "   sigma_00     ...      c_sigma_42  c_sigma_43  c_sigma_44  c_sigma_45  \\\n",
       "0   199.601     ...             0.0         0.0   99840.574         0.0   \n",
       "1   199.601     ...             0.0         0.0   99840.574         0.0   \n",
       "2   128.569     ...             0.0         0.0   99840.574         0.0   \n",
       "3   128.569     ...             0.0         0.0   99840.574         0.0   \n",
       "4   128.173     ...             0.0         0.0   99840.574         0.0   \n",
       "\n",
       "   c_sigma_50  c_sigma_51  c_sigma_52  c_sigma_53  c_sigma_54  c_sigma_55  \n",
       "0         0.0         0.0    1006.377         0.0         0.0   99840.574  \n",
       "1         0.0         0.0    1006.377         0.0         0.0   99840.574  \n",
       "2         0.0         0.0    1006.377         0.0         0.0   99840.574  \n",
       "3         0.0         0.0    1006.377         0.0         0.0   99840.574  \n",
       "4         0.0         0.0    1006.377         0.0         0.0   99840.574  \n",
       "\n",
       "[5 rows x 91 columns]"
      ]
     },
     "execution_count": 38,
     "metadata": {},
     "output_type": "execute_result"
    }
   ],
   "source": [
    "data.head()"
   ]
  },
  {
   "cell_type": "code",
   "execution_count": 39,
   "metadata": {},
   "outputs": [
    {
     "data": {
      "text/plain": [
       "2885"
      ]
     },
     "execution_count": 39,
     "metadata": {},
     "output_type": "execute_result"
    }
   ],
   "source": [
    "data['collision_p'].argmax()"
   ]
  },
  {
   "cell_type": "code",
   "execution_count": 40,
   "metadata": {},
   "outputs": [
    {
     "data": {
      "text/plain": [
       "0.0080000000000000002"
      ]
     },
     "execution_count": 40,
     "metadata": {},
     "output_type": "execute_result"
    }
   ],
   "source": [
    "data.iloc[2885].collision_p"
   ]
  },
  {
   "cell_type": "code",
   "execution_count": 41,
   "metadata": {},
   "outputs": [
    {
     "data": {
      "text/plain": [
       "array([ 5.978, -6.696, -0.991])"
      ]
     },
     "execution_count": 41,
     "metadata": {},
     "output_type": "execute_result"
    }
   ],
   "source": [
    "mu=np.array([data.iloc[2885].c_x, data.iloc[2885].c_y, data.iloc[2885].c_z])\n",
    "mu"
   ]
  },
  {
   "cell_type": "code",
   "execution_count": 42,
   "metadata": {
    "collapsed": true
   },
   "outputs": [],
   "source": [
    "s00=data.iloc[2885].c_sigma_00\n",
    "s01=data.iloc[2885].c_sigma_01\n",
    "s02=data.iloc[2885].c_sigma_02\n",
    "s10=data.iloc[2885].c_sigma_10\n",
    "s11=data.iloc[2885].c_sigma_11\n",
    "s12=data.iloc[2885].c_sigma_12\n",
    "s20=data.iloc[2885].c_sigma_20\n",
    "s21=data.iloc[2885].c_sigma_21\n",
    "s22=data.iloc[2885].c_sigma_22\n",
    "s30=data.iloc[2885].c_sigma_20\n",
    "s31=data.iloc[2885].c_sigma_31\n",
    "s32=data.iloc[2885].c_sigma_32"
   ]
  },
  {
   "cell_type": "code",
   "execution_count": 43,
   "metadata": {
    "collapsed": true
   },
   "outputs": [],
   "source": [
    "v = np.array([[s00, s01, s02],\n",
    "              [s10, s11, s12],\n",
    "              [s20, s21, s22]])"
   ]
  },
  {
   "cell_type": "code",
   "execution_count": 44,
   "metadata": {},
   "outputs": [
    {
     "data": {
      "text/plain": [
       "array([[ 58.632,   0.   ,   0.   ],\n",
       "       [  0.   ,  58.632,   0.   ],\n",
       "       [  0.   ,   0.   ,  58.632]])"
      ]
     },
     "execution_count": 44,
     "metadata": {},
     "output_type": "execute_result"
    }
   ],
   "source": [
    "v"
   ]
  },
  {
   "cell_type": "code",
   "execution_count": 45,
   "metadata": {
    "collapsed": true
   },
   "outputs": [],
   "source": [
    "m=1000"
   ]
  },
  {
   "cell_type": "code",
   "execution_count": 46,
   "metadata": {
    "collapsed": true
   },
   "outputs": [],
   "source": [
    "loc_samples = np.random.multivariate_normal(mu, v, m)"
   ]
  },
  {
   "cell_type": "code",
   "execution_count": 47,
   "metadata": {},
   "outputs": [
    {
     "data": {
      "text/plain": [
       "array([[ 18.11815111,   9.53427058,   7.84164624],\n",
       "       [  8.75866279, -24.57811651,  -2.0619081 ],\n",
       "       [  0.10545375,  -9.20308259,  -1.9115536 ],\n",
       "       ..., \n",
       "       [  0.28157519,  -4.91520647,   7.75198876],\n",
       "       [  4.18739466, -14.64233506,  -3.784415  ],\n",
       "       [ 10.79148905,  -2.78487823,   9.85853554]])"
      ]
     },
     "execution_count": 47,
     "metadata": {},
     "output_type": "execute_result"
    }
   ],
   "source": [
    "loc_samples"
   ]
  },
  {
   "cell_type": "code",
   "execution_count": 48,
   "metadata": {
    "collapsed": true
   },
   "outputs": [],
   "source": [
    "ri = np.random.lognormal(1.28, 0.25, m)/2 # car body sizes\n",
    "r = np.random.lognormal(0.51, 0.07, m)/2 # observer (person) body sizes"
   ]
  },
  {
   "cell_type": "code",
   "execution_count": 49,
   "metadata": {},
   "outputs": [
    {
     "data": {
      "text/plain": [
       "0.014"
      ]
     },
     "execution_count": 49,
     "metadata": {},
     "output_type": "execute_result"
    }
   ],
   "source": [
    "p_collision = 0.0\n",
    "for i in range(m):\n",
    "    if np.linalg.norm(np.array([loc_samples[i,0], loc_samples[i,1], loc_samples[i,2]])) < (ri[i]+r[i]):\n",
    "                      p_collision +=1\n",
    "p_collision /= m\n",
    "p_collision"
   ]
  },
  {
   "cell_type": "code",
   "execution_count": 50,
   "metadata": {},
   "outputs": [
    {
     "data": {
      "text/plain": [
       "<matplotlib.collections.PathCollection at 0x2ae866662e8>"
      ]
     },
     "execution_count": 50,
     "metadata": {},
     "output_type": "execute_result"
    },
    {
     "data": {
      "image/png": "[encoded data removed]",
      "text/plain": [
       "<matplotlib.figure.Figure at 0x2ae86555da0>"
      ]
     },
     "metadata": {},
     "output_type": "display_data"
    }
   ],
   "source": [
    "plt.scatter(loc_samples[:,0],loc_samples[:,2],alpha=1.0,s=2)"
   ]
  },
  {
   "cell_type": "code",
   "execution_count": 51,
   "metadata": {
    "collapsed": true
   },
   "outputs": [],
   "source": [
    "def circles(x, y, s, c='b', vmin=None, vmax=None, **kwargs):\n",
    "    \"\"\"\n",
    "    Make a scatter of circles plot of x vs y, where x and y are sequence \n",
    "    like objects of the same lengths. The size of circles are in data scale.\n",
    "\n",
    "    Parameters\n",
    "    ----------\n",
    "    x,y : scalar or array_like, shape (n, )\n",
    "        Input data\n",
    "    s : scalar or array_like, shape (n, ) \n",
    "        Radius of circle in data unit.\n",
    "    c : color or sequence of color, optional, default : 'b'\n",
    "        `c` can be a single color format string, or a sequence of color\n",
    "        specifications of length `N`, or a sequence of `N` numbers to be\n",
    "        mapped to colors using the `cmap` and `norm` specified via kwargs.\n",
    "        Note that `c` should not be a single numeric RGB or RGBA sequence \n",
    "        because that is indistinguishable from an array of values\n",
    "        to be colormapped. (If you insist, use `color` instead.)  \n",
    "        `c` can be a 2-D array in which the rows are RGB or RGBA, however. \n",
    "    vmin, vmax : scalar, optional, default: None\n",
    "        `vmin` and `vmax` are used in conjunction with `norm` to normalize\n",
    "        luminance data.  If either are `None`, the min and max of the\n",
    "        color array is used.\n",
    "    kwargs : `~matplotlib.collections.Collection` properties\n",
    "        Eg. alpha, edgecolor(ec), facecolor(fc), linewidth(lw), linestyle(ls), \n",
    "        norm, cmap, transform, etc.\n",
    "\n",
    "    Returns\n",
    "    -------\n",
    "    paths : `~matplotlib.collections.PathCollection`\n",
    "\n",
    "    Examples\n",
    "    --------\n",
    "    a = np.arange(11)\n",
    "    circles(a, a, a*0.2, c=a, alpha=0.5, edgecolor='none')\n",
    "    plt.colorbar()\n",
    "\n",
    "    License\n",
    "    --------\n",
    "    This code is under [The BSD 3-Clause License]\n",
    "    (http://opensource.org/licenses/BSD-3-Clause)\n",
    "    \"\"\"\n",
    "    from matplotlib.patches import Circle\n",
    "    from matplotlib.collections import PatchCollection\n",
    "\n",
    "    if np.isscalar(c):\n",
    "        kwargs.setdefault('color', c)\n",
    "        c = None\n",
    "    if 'fc' in kwargs: kwargs.setdefault('facecolor', kwargs.pop('fc'))\n",
    "    if 'ec' in kwargs: kwargs.setdefault('edgecolor', kwargs.pop('ec'))\n",
    "    if 'ls' in kwargs: kwargs.setdefault('linestyle', kwargs.pop('ls'))\n",
    "    if 'lw' in kwargs: kwargs.setdefault('linewidth', kwargs.pop('lw'))\n",
    "\n",
    "    patches = [Circle((x_, y_), s_) for x_, y_, s_ in np.broadcast(x, y, s)]\n",
    "    collection = PatchCollection(patches, **kwargs)\n",
    "    if c is not None:\n",
    "        collection.set_array(np.asarray(c))\n",
    "        collection.set_clim(vmin, vmax)\n",
    "\n",
    "    ax = plt.gca()\n",
    "    ax.add_collection(collection)\n",
    "    ax.autoscale_view()\n",
    "    if c is not None:\n",
    "        plt.sci(collection)\n",
    "    return collection"
   ]
  },
  {
   "cell_type": "code",
   "execution_count": 52,
   "metadata": {
    "collapsed": true
   },
   "outputs": [],
   "source": [
    "observer_loc = np.zeros((m,1))"
   ]
  },
  {
   "cell_type": "code",
   "execution_count": 53,
   "metadata": {},
   "outputs": [],
   "source": [
    "#circles(loc_samples[:,0],loc_samples[:,2], s=ri[:], c='black', alpha=0.2, edgecolor='none')\n",
    "#circles(observer_loc[:],observer_loc[:], s=r[:], c='red', alpha=0.2, edgecolor='none')"
   ]
  },
  {
   "cell_type": "code",
   "execution_count": 54,
   "metadata": {},
   "outputs": [
    {
     "data": {
      "text/plain": [
       "2457841325896.0"
      ]
     },
     "execution_count": 54,
     "metadata": {},
     "output_type": "execute_result"
    }
   ],
   "source": [
    "data.iloc[2885].id"
   ]
  },
  {
   "cell_type": "code",
   "execution_count": 55,
   "metadata": {
    "collapsed": true
   },
   "outputs": [],
   "source": [
    "data_one = data[(data.id==2457841325896) ]\n",
    "data_one = data_one.set_index('time')"
   ]
  },
  {
   "cell_type": "code",
   "execution_count": 56,
   "metadata": {},
   "outputs": [
    {
     "data": {
      "text/plain": [
       "<matplotlib.axes._subplots.AxesSubplot at 0x2ae866ea940>"
      ]
     },
     "execution_count": 56,
     "metadata": {},
     "output_type": "execute_result"
    },
    {
     "data": {
      "image/png": "[encoded data removed]",
      "text/plain": [
       "<matplotlib.figure.Figure at 0x2ae86500a20>"
      ]
     },
     "metadata": {},
     "output_type": "display_data"
    }
   ],
   "source": [
    "data_one['collision_p'].plot()"
   ]
  },
  {
   "cell_type": "code",
   "execution_count": null,
   "metadata": {
    "collapsed": true
   },
   "outputs": [],
   "source": []
  },
  {
   "cell_type": "code",
   "execution_count": 35,
   "metadata": {},
   "outputs": [
    {
     "data": {
      "text/plain": [
       "1000"
      ]
     },
     "execution_count": 35,
     "metadata": {},
     "output_type": "execute_result"
    }
   ],
   "source": [
    "m"
   ]
  },
  {
   "cell_type": "code",
   "execution_count": null,
   "metadata": {
    "collapsed": true
   },
   "outputs": [],
   "source": []
  }
 ],
 "metadata": {
  "kernelspec": {
   "display_name": "Python 3",
   "language": "python",
   "name": "python3"
  },
  "language_info": {
   "codemirror_mode": {
    "name": "ipython",
    "version": 3
   },
   "file_extension": ".py",
   "mimetype": "text/x-python",
   "name": "python",
   "nbconvert_exporter": "python",
   "pygments_lexer": "ipython3",
   "version": "3.6.2"
  }
 },
 "nbformat": 4,
 "nbformat_minor": 2
}
