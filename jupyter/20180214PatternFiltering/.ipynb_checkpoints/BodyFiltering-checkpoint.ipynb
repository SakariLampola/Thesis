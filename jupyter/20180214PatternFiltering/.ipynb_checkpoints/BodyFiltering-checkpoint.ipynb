{
 "cells": [
  {
   "cell_type": "code",
   "execution_count": 1,
   "metadata": {
    "collapsed": true
   },
   "outputs": [],
   "source": [
    "import numpy as np\n",
    "import pandas as pd\n",
    "import matplotlib.pylab as plt\n",
    "import seaborn as sns\n",
    "%matplotlib inline\n",
    "sns.set(style=\"whitegrid\", color_codes=True)"
   ]
  },
  {
   "cell_type": "code",
   "execution_count": 2,
   "metadata": {},
   "outputs": [
    {
     "data": {
      "text/plain": [
       "(25977, 51)"
      ]
     },
     "execution_count": 2,
     "metadata": {},
     "output_type": "execute_result"
    }
   ],
   "source": [
    "data = pd.read_csv('Body.txt')\n",
    "data.shape"
   ]
  },
  {
   "cell_type": "code",
   "execution_count": 3,
   "metadata": {},
   "outputs": [
    {
     "data": {
      "text/plain": [
       "(1390, 50)"
      ]
     },
     "execution_count": 3,
     "metadata": {},
     "output_type": "execute_result"
    }
   ],
   "source": [
    "data_one = data[(data.id==2061577797816) ]\n",
    "data_one = data_one.set_index('time')\n",
    "data_one.shape"
   ]
  },
  {
   "cell_type": "code",
   "execution_count": 4,
   "metadata": {},
   "outputs": [
    {
     "data": {
      "text/html": [
       "<div>\n",
       "<style>\n",
       "    .dataframe thead tr:only-child th {\n",
       "        text-align: right;\n",
       "    }\n",
       "\n",
       "    .dataframe thead th {\n",
       "        text-align: left;\n",
       "    }\n",
       "\n",
       "    .dataframe tbody tr th {\n",
       "        vertical-align: top;\n",
       "    }\n",
       "</style>\n",
       "<table border=\"1\" class=\"dataframe\">\n",
       "  <thead>\n",
       "    <tr style=\"text-align: right;\">\n",
       "      <th></th>\n",
       "      <th>id</th>\n",
       "      <th>class_id</th>\n",
       "      <th>x</th>\n",
       "      <th>y</th>\n",
       "      <th>z</th>\n",
       "      <th>vx</th>\n",
       "      <th>vy</th>\n",
       "      <th>vz</th>\n",
       "      <th>sigma_00</th>\n",
       "      <th>sigma_01</th>\n",
       "      <th>...</th>\n",
       "      <th>sigma_52</th>\n",
       "      <th>sigma_53</th>\n",
       "      <th>sigma_54</th>\n",
       "      <th>sigma_55</th>\n",
       "      <th>x_pattern</th>\n",
       "      <th>y_pattern</th>\n",
       "      <th>z_pattern</th>\n",
       "      <th>pattern</th>\n",
       "      <th>status</th>\n",
       "      <th>collision_p</th>\n",
       "    </tr>\n",
       "    <tr>\n",
       "      <th>time</th>\n",
       "      <th></th>\n",
       "      <th></th>\n",
       "      <th></th>\n",
       "      <th></th>\n",
       "      <th></th>\n",
       "      <th></th>\n",
       "      <th></th>\n",
       "      <th></th>\n",
       "      <th></th>\n",
       "      <th></th>\n",
       "      <th></th>\n",
       "      <th></th>\n",
       "      <th></th>\n",
       "      <th></th>\n",
       "      <th></th>\n",
       "      <th></th>\n",
       "      <th></th>\n",
       "      <th></th>\n",
       "      <th></th>\n",
       "      <th></th>\n",
       "      <th></th>\n",
       "    </tr>\n",
       "  </thead>\n",
       "  <tbody>\n",
       "    <tr>\n",
       "      <th>4.48</th>\n",
       "      <td>2061577797816</td>\n",
       "      <td>7</td>\n",
       "      <td>-3.199</td>\n",
       "      <td>2.241</td>\n",
       "      <td>-116.392</td>\n",
       "      <td>0.000</td>\n",
       "      <td>0.000</td>\n",
       "      <td>0.000</td>\n",
       "      <td>199.601</td>\n",
       "      <td>0.0</td>\n",
       "      <td>...</td>\n",
       "      <td>7.971</td>\n",
       "      <td>0.0</td>\n",
       "      <td>0.0</td>\n",
       "      <td>99840.574</td>\n",
       "      <td>-3.199</td>\n",
       "      <td>2.241</td>\n",
       "      <td>-116.392</td>\n",
       "      <td>2061577776432</td>\n",
       "      <td>1</td>\n",
       "      <td>0.0</td>\n",
       "    </tr>\n",
       "    <tr>\n",
       "      <th>4.52</th>\n",
       "      <td>2061577797816</td>\n",
       "      <td>7</td>\n",
       "      <td>-3.160</td>\n",
       "      <td>2.203</td>\n",
       "      <td>-114.598</td>\n",
       "      <td>0.430</td>\n",
       "      <td>-0.419</td>\n",
       "      <td>19.938</td>\n",
       "      <td>128.569</td>\n",
       "      <td>0.0</td>\n",
       "      <td>...</td>\n",
       "      <td>1429.181</td>\n",
       "      <td>0.0</td>\n",
       "      <td>0.0</td>\n",
       "      <td>71245.552</td>\n",
       "      <td>-3.139</td>\n",
       "      <td>2.182</td>\n",
       "      <td>-113.602</td>\n",
       "      <td>2061577776432</td>\n",
       "      <td>1</td>\n",
       "      <td>0.0</td>\n",
       "    </tr>\n",
       "    <tr>\n",
       "      <th>4.56</th>\n",
       "      <td>2061577797816</td>\n",
       "      <td>7</td>\n",
       "      <td>-3.098</td>\n",
       "      <td>2.149</td>\n",
       "      <td>-112.340</td>\n",
       "      <td>0.973</td>\n",
       "      <td>-0.860</td>\n",
       "      <td>37.450</td>\n",
       "      <td>128.173</td>\n",
       "      <td>0.0</td>\n",
       "      <td>...</td>\n",
       "      <td>1536.731</td>\n",
       "      <td>0.0</td>\n",
       "      <td>0.0</td>\n",
       "      <td>38367.159</td>\n",
       "      <td>-3.073</td>\n",
       "      <td>2.129</td>\n",
       "      <td>-111.522</td>\n",
       "      <td>2061577776432</td>\n",
       "      <td>1</td>\n",
       "      <td>0.0</td>\n",
       "    </tr>\n",
       "    <tr>\n",
       "      <th>4.60</th>\n",
       "      <td>2061577797816</td>\n",
       "      <td>7</td>\n",
       "      <td>-3.038</td>\n",
       "      <td>2.092</td>\n",
       "      <td>-110.198</td>\n",
       "      <td>1.180</td>\n",
       "      <td>-1.090</td>\n",
       "      <td>43.780</td>\n",
       "      <td>121.951</td>\n",
       "      <td>0.0</td>\n",
       "      <td>...</td>\n",
       "      <td>1198.603</td>\n",
       "      <td>0.0</td>\n",
       "      <td>0.0</td>\n",
       "      <td>19960.100</td>\n",
       "      <td>-3.025</td>\n",
       "      <td>2.077</td>\n",
       "      <td>-109.786</td>\n",
       "      <td>2061577776432</td>\n",
       "      <td>1</td>\n",
       "      <td>0.0</td>\n",
       "    </tr>\n",
       "    <tr>\n",
       "      <th>4.64</th>\n",
       "      <td>2061577797816</td>\n",
       "      <td>7</td>\n",
       "      <td>-2.980</td>\n",
       "      <td>2.023</td>\n",
       "      <td>-108.235</td>\n",
       "      <td>1.266</td>\n",
       "      <td>-1.290</td>\n",
       "      <td>45.475</td>\n",
       "      <td>111.067</td>\n",
       "      <td>0.0</td>\n",
       "      <td>...</td>\n",
       "      <td>888.002</td>\n",
       "      <td>0.0</td>\n",
       "      <td>0.0</td>\n",
       "      <td>11093.369</td>\n",
       "      <td>-2.971</td>\n",
       "      <td>2.003</td>\n",
       "      <td>-108.065</td>\n",
       "      <td>2061577776432</td>\n",
       "      <td>1</td>\n",
       "      <td>0.0</td>\n",
       "    </tr>\n",
       "  </tbody>\n",
       "</table>\n",
       "<p>5 rows × 50 columns</p>\n",
       "</div>"
      ],
      "text/plain": [
       "                 id  class_id      x      y        z     vx     vy      vz  \\\n",
       "time                                                                         \n",
       "4.48  2061577797816         7 -3.199  2.241 -116.392  0.000  0.000   0.000   \n",
       "4.52  2061577797816         7 -3.160  2.203 -114.598  0.430 -0.419  19.938   \n",
       "4.56  2061577797816         7 -3.098  2.149 -112.340  0.973 -0.860  37.450   \n",
       "4.60  2061577797816         7 -3.038  2.092 -110.198  1.180 -1.090  43.780   \n",
       "4.64  2061577797816         7 -2.980  2.023 -108.235  1.266 -1.290  45.475   \n",
       "\n",
       "      sigma_00  sigma_01     ...       sigma_52  sigma_53  sigma_54  \\\n",
       "time                         ...                                      \n",
       "4.48   199.601       0.0     ...          7.971       0.0       0.0   \n",
       "4.52   128.569       0.0     ...       1429.181       0.0       0.0   \n",
       "4.56   128.173       0.0     ...       1536.731       0.0       0.0   \n",
       "4.60   121.951       0.0     ...       1198.603       0.0       0.0   \n",
       "4.64   111.067       0.0     ...        888.002       0.0       0.0   \n",
       "\n",
       "       sigma_55  x_pattern  y_pattern  z_pattern        pattern  status  \\\n",
       "time                                                                      \n",
       "4.48  99840.574     -3.199      2.241   -116.392  2061577776432       1   \n",
       "4.52  71245.552     -3.139      2.182   -113.602  2061577776432       1   \n",
       "4.56  38367.159     -3.073      2.129   -111.522  2061577776432       1   \n",
       "4.60  19960.100     -3.025      2.077   -109.786  2061577776432       1   \n",
       "4.64  11093.369     -2.971      2.003   -108.065  2061577776432       1   \n",
       "\n",
       "      collision_p  \n",
       "time               \n",
       "4.48          0.0  \n",
       "4.52          0.0  \n",
       "4.56          0.0  \n",
       "4.60          0.0  \n",
       "4.64          0.0  \n",
       "\n",
       "[5 rows x 50 columns]"
      ]
     },
     "execution_count": 4,
     "metadata": {},
     "output_type": "execute_result"
    }
   ],
   "source": [
    "data_one.head()"
   ]
  },
  {
   "cell_type": "code",
   "execution_count": 5,
   "metadata": {},
   "outputs": [
    {
     "data": {
      "text/plain": [
       "<matplotlib.axes._subplots.AxesSubplot at 0x2e5b3fa4e10>"
      ]
     },
     "execution_count": 5,
     "metadata": {},
     "output_type": "execute_result"
    },
    {
     "data": {
      "image/png": "[encoded data removed]",
      "text/plain": [
       "<matplotlib.figure.Figure at 0x2e5b3fa4fd0>"
      ]
     },
     "metadata": {},
     "output_type": "display_data"
    }
   ],
   "source": [
    "data_one['status'].plot()"
   ]
  },
  {
   "cell_type": "code",
   "execution_count": 7,
   "metadata": {},
   "outputs": [
    {
     "data": {
      "text/plain": [
       "<matplotlib.axes._subplots.AxesSubplot at 0x2e5b4111c50>"
      ]
     },
     "execution_count": 7,
     "metadata": {},
     "output_type": "execute_result"
    },
    {
     "data": {
      "image/png": "[encoded data removed]",
      "text/plain": [
       "<matplotlib.figure.Figure at 0x2e5b410b6a0>"
      ]
     },
     "metadata": {},
     "output_type": "display_data"
    }
   ],
   "source": [
    "data_one['x_pattern'].plot() # blue, measurement\n",
    "data_one['x'].plot() # green, filtered + predicted"
   ]
  },
  {
   "cell_type": "code",
   "execution_count": 8,
   "metadata": {},
   "outputs": [
    {
     "data": {
      "text/plain": [
       "<matplotlib.axes._subplots.AxesSubplot at 0x2e5b4125470>"
      ]
     },
     "execution_count": 8,
     "metadata": {},
     "output_type": "execute_result"
    },
    {
     "data": {
      "image/png": "[encoded data removed]",
      "text/plain": [
       "<matplotlib.figure.Figure at 0x2e5b418d4e0>"
      ]
     },
     "metadata": {},
     "output_type": "display_data"
    }
   ],
   "source": [
    "data_one['y_pattern'].plot() # blue, measurement\n",
    "data_one['y'].plot() # green, filtered + predicted"
   ]
  },
  {
   "cell_type": "code",
   "execution_count": 9,
   "metadata": {},
   "outputs": [
    {
     "data": {
      "text/plain": [
       "<matplotlib.axes._subplots.AxesSubplot at 0x2e5b41ab6d8>"
      ]
     },
     "execution_count": 9,
     "metadata": {},
     "output_type": "execute_result"
    },
    {
     "data": {
      "image/png": "[encoded data removed]",
      "text/plain": [
       "<matplotlib.figure.Figure at 0x2e5b423b978>"
      ]
     },
     "metadata": {},
     "output_type": "display_data"
    }
   ],
   "source": [
    "data_one['z_pattern'].plot() # blue, measurement\n",
    "data_one['z'].plot() # green, filtered + predicted"
   ]
  },
  {
   "cell_type": "code",
   "execution_count": 10,
   "metadata": {},
   "outputs": [
    {
     "data": {
      "text/plain": [
       "<matplotlib.axes._subplots.AxesSubplot at 0x2e5b424cac8>"
      ]
     },
     "execution_count": 10,
     "metadata": {},
     "output_type": "execute_result"
    },
    {
     "data": {
      "image/png": "[encoded data removed]",
      "text/plain": [
       "<matplotlib.figure.Figure at 0x2e5b54d6320>"
      ]
     },
     "metadata": {},
     "output_type": "display_data"
    }
   ],
   "source": [
    "data_one['vx'].plot() # blue\n",
    "data_one['vy'].plot() # green\n",
    "data_one['vz'].plot() # red"
   ]
  },
  {
   "cell_type": "code",
   "execution_count": 11,
   "metadata": {},
   "outputs": [
    {
     "data": {
      "text/plain": [
       "<matplotlib.axes._subplots.AxesSubplot at 0x2e5b55b6ac8>"
      ]
     },
     "execution_count": 11,
     "metadata": {},
     "output_type": "execute_result"
    },
    {
     "data": {
      "image/png": "[encoded data removed]",
      "text/plain": [
       "<matplotlib.figure.Figure at 0x2e5b54e1c18>"
      ]
     },
     "metadata": {},
     "output_type": "display_data"
    }
   ],
   "source": [
    "data_one['sigma_00'].plot() # blue, x location variance\n",
    "data_one['sigma_33'].plot() # green, x velocity variance"
   ]
  },
  {
   "cell_type": "code",
   "execution_count": null,
   "metadata": {
    "collapsed": true
   },
   "outputs": [],
   "source": []
  }
 ],
 "metadata": {
  "kernelspec": {
   "display_name": "Python 3",
   "language": "python",
   "name": "python3"
  },
  "language_info": {
   "codemirror_mode": {
    "name": "ipython",
    "version": 3
   },
   "file_extension": ".py",
   "mimetype": "text/x-python",
   "name": "python",
   "nbconvert_exporter": "python",
   "pygments_lexer": "ipython3",
   "version": "3.6.2"
  }
 },
 "nbformat": 4,
 "nbformat_minor": 2
}
