{
 "cells": [
  {
   "cell_type": "code",
   "execution_count": 1,
   "metadata": {
    "collapsed": true
   },
   "outputs": [],
   "source": [
    "import numpy as np\n",
    "import pandas as pd\n",
    "import matplotlib.pylab as plt\n",
    "import seaborn as sns\n",
    "%matplotlib inline\n",
    "sns.set(style=\"whitegrid\", color_codes=True)"
   ]
  },
  {
   "cell_type": "code",
   "execution_count": 2,
   "metadata": {},
   "outputs": [
    {
     "data": {
      "text/plain": [
       "(25977, 51)"
      ]
     },
     "execution_count": 2,
     "metadata": {},
     "output_type": "execute_result"
    }
   ],
   "source": [
    "data = pd.read_csv('../../Body.txt')\n",
    "data.shape"
   ]
  },
  {
   "cell_type": "code",
   "execution_count": 3,
   "metadata": {},
   "outputs": [
    {
     "data": {
      "text/html": [
       "<div>\n",
       "<style>\n",
       "    .dataframe thead tr:only-child th {\n",
       "        text-align: right;\n",
       "    }\n",
       "\n",
       "    .dataframe thead th {\n",
       "        text-align: left;\n",
       "    }\n",
       "\n",
       "    .dataframe tbody tr th {\n",
       "        vertical-align: top;\n",
       "    }\n",
       "</style>\n",
       "<table border=\"1\" class=\"dataframe\">\n",
       "  <thead>\n",
       "    <tr style=\"text-align: right;\">\n",
       "      <th></th>\n",
       "      <th>time</th>\n",
       "      <th>id</th>\n",
       "      <th>class_id</th>\n",
       "      <th>x</th>\n",
       "      <th>y</th>\n",
       "      <th>z</th>\n",
       "      <th>vx</th>\n",
       "      <th>vy</th>\n",
       "      <th>vz</th>\n",
       "      <th>sigma_00</th>\n",
       "      <th>...</th>\n",
       "      <th>sigma_52</th>\n",
       "      <th>sigma_53</th>\n",
       "      <th>sigma_54</th>\n",
       "      <th>sigma_55</th>\n",
       "      <th>x_pattern</th>\n",
       "      <th>y_pattern</th>\n",
       "      <th>z_pattern</th>\n",
       "      <th>pattern</th>\n",
       "      <th>status</th>\n",
       "      <th>collision_p</th>\n",
       "    </tr>\n",
       "  </thead>\n",
       "  <tbody>\n",
       "    <tr>\n",
       "      <th>0</th>\n",
       "      <td>0.00</td>\n",
       "      <td>1927751914608</td>\n",
       "      <td>7</td>\n",
       "      <td>3.452</td>\n",
       "      <td>-0.145</td>\n",
       "      <td>-96.541</td>\n",
       "      <td>0.000</td>\n",
       "      <td>0.000</td>\n",
       "      <td>0.000</td>\n",
       "      <td>199.601</td>\n",
       "      <td>...</td>\n",
       "      <td>7.971</td>\n",
       "      <td>0.0</td>\n",
       "      <td>0.0</td>\n",
       "      <td>99840.574</td>\n",
       "      <td>3.452</td>\n",
       "      <td>-0.145</td>\n",
       "      <td>-96.541</td>\n",
       "      <td>1927751914552</td>\n",
       "      <td>1</td>\n",
       "      <td>0.0</td>\n",
       "    </tr>\n",
       "    <tr>\n",
       "      <th>1</th>\n",
       "      <td>0.00</td>\n",
       "      <td>1927751914832</td>\n",
       "      <td>7</td>\n",
       "      <td>-0.226</td>\n",
       "      <td>-1.349</td>\n",
       "      <td>-89.454</td>\n",
       "      <td>0.000</td>\n",
       "      <td>0.000</td>\n",
       "      <td>0.000</td>\n",
       "      <td>199.601</td>\n",
       "      <td>...</td>\n",
       "      <td>7.971</td>\n",
       "      <td>0.0</td>\n",
       "      <td>0.0</td>\n",
       "      <td>99840.574</td>\n",
       "      <td>-0.226</td>\n",
       "      <td>-1.349</td>\n",
       "      <td>-89.454</td>\n",
       "      <td>1927751914776</td>\n",
       "      <td>1</td>\n",
       "      <td>0.0</td>\n",
       "    </tr>\n",
       "    <tr>\n",
       "      <th>2</th>\n",
       "      <td>0.04</td>\n",
       "      <td>1927751914608</td>\n",
       "      <td>7</td>\n",
       "      <td>3.507</td>\n",
       "      <td>-0.183</td>\n",
       "      <td>-96.872</td>\n",
       "      <td>0.612</td>\n",
       "      <td>-0.426</td>\n",
       "      <td>-3.685</td>\n",
       "      <td>128.569</td>\n",
       "      <td>...</td>\n",
       "      <td>1429.181</td>\n",
       "      <td>0.0</td>\n",
       "      <td>0.0</td>\n",
       "      <td>71245.552</td>\n",
       "      <td>3.538</td>\n",
       "      <td>-0.204</td>\n",
       "      <td>-97.056</td>\n",
       "      <td>1927751914552</td>\n",
       "      <td>1</td>\n",
       "      <td>0.0</td>\n",
       "    </tr>\n",
       "    <tr>\n",
       "      <th>3</th>\n",
       "      <td>0.04</td>\n",
       "      <td>1927751914832</td>\n",
       "      <td>7</td>\n",
       "      <td>-0.209</td>\n",
       "      <td>-1.372</td>\n",
       "      <td>-88.698</td>\n",
       "      <td>0.182</td>\n",
       "      <td>-0.255</td>\n",
       "      <td>8.404</td>\n",
       "      <td>128.569</td>\n",
       "      <td>...</td>\n",
       "      <td>1429.181</td>\n",
       "      <td>0.0</td>\n",
       "      <td>0.0</td>\n",
       "      <td>71245.552</td>\n",
       "      <td>-0.200</td>\n",
       "      <td>-1.385</td>\n",
       "      <td>-88.278</td>\n",
       "      <td>1927751914776</td>\n",
       "      <td>1</td>\n",
       "      <td>0.0</td>\n",
       "    </tr>\n",
       "    <tr>\n",
       "      <th>4</th>\n",
       "      <td>0.08</td>\n",
       "      <td>1927751914608</td>\n",
       "      <td>7</td>\n",
       "      <td>3.579</td>\n",
       "      <td>-0.228</td>\n",
       "      <td>-97.404</td>\n",
       "      <td>1.181</td>\n",
       "      <td>-0.758</td>\n",
       "      <td>-8.294</td>\n",
       "      <td>128.173</td>\n",
       "      <td>...</td>\n",
       "      <td>1536.731</td>\n",
       "      <td>0.0</td>\n",
       "      <td>0.0</td>\n",
       "      <td>38367.159</td>\n",
       "      <td>3.606</td>\n",
       "      <td>-0.243</td>\n",
       "      <td>-97.619</td>\n",
       "      <td>1927751914552</td>\n",
       "      <td>1</td>\n",
       "      <td>0.0</td>\n",
       "    </tr>\n",
       "  </tbody>\n",
       "</table>\n",
       "<p>5 rows × 51 columns</p>\n",
       "</div>"
      ],
      "text/plain": [
       "   time             id  class_id      x      y       z     vx     vy     vz  \\\n",
       "0  0.00  1927751914608         7  3.452 -0.145 -96.541  0.000  0.000  0.000   \n",
       "1  0.00  1927751914832         7 -0.226 -1.349 -89.454  0.000  0.000  0.000   \n",
       "2  0.04  1927751914608         7  3.507 -0.183 -96.872  0.612 -0.426 -3.685   \n",
       "3  0.04  1927751914832         7 -0.209 -1.372 -88.698  0.182 -0.255  8.404   \n",
       "4  0.08  1927751914608         7  3.579 -0.228 -97.404  1.181 -0.758 -8.294   \n",
       "\n",
       "   sigma_00     ...       sigma_52  sigma_53  sigma_54   sigma_55  x_pattern  \\\n",
       "0   199.601     ...          7.971       0.0       0.0  99840.574      3.452   \n",
       "1   199.601     ...          7.971       0.0       0.0  99840.574     -0.226   \n",
       "2   128.569     ...       1429.181       0.0       0.0  71245.552      3.538   \n",
       "3   128.569     ...       1429.181       0.0       0.0  71245.552     -0.200   \n",
       "4   128.173     ...       1536.731       0.0       0.0  38367.159      3.606   \n",
       "\n",
       "   y_pattern  z_pattern        pattern  status  collision_p  \n",
       "0     -0.145    -96.541  1927751914552       1          0.0  \n",
       "1     -1.349    -89.454  1927751914776       1          0.0  \n",
       "2     -0.204    -97.056  1927751914552       1          0.0  \n",
       "3     -1.385    -88.278  1927751914776       1          0.0  \n",
       "4     -0.243    -97.619  1927751914552       1          0.0  \n",
       "\n",
       "[5 rows x 51 columns]"
      ]
     },
     "execution_count": 3,
     "metadata": {},
     "output_type": "execute_result"
    }
   ],
   "source": [
    "data.head()"
   ]
  },
  {
   "cell_type": "code",
   "execution_count": 4,
   "metadata": {},
   "outputs": [
    {
     "data": {
      "text/plain": [
       "0.0080000000000000002"
      ]
     },
     "execution_count": 4,
     "metadata": {},
     "output_type": "execute_result"
    }
   ],
   "source": [
    "max(data.collision_p)"
   ]
  },
  {
   "cell_type": "code",
   "execution_count": null,
   "metadata": {
    "collapsed": true
   },
   "outputs": [],
   "source": []
  }
 ],
 "metadata": {
  "kernelspec": {
   "display_name": "Python 3",
   "language": "python",
   "name": "python3"
  },
  "language_info": {
   "codemirror_mode": {
    "name": "ipython",
    "version": 3
   },
   "file_extension": ".py",
   "mimetype": "text/x-python",
   "name": "python",
   "nbconvert_exporter": "python",
   "pygments_lexer": "ipython3",
   "version": "3.6.2"
  }
 },
 "nbformat": 4,
 "nbformat_minor": 2
}
