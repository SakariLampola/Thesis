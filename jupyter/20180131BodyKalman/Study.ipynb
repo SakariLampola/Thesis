{
 "cells": [
  {
   "cell_type": "code",
   "execution_count": 600,
   "metadata": {
    "collapsed": true
   },
   "outputs": [],
   "source": [
    "import numpy as np\n",
    "import pandas as pd\n",
    "import matplotlib as mpl\n",
    "import matplotlib.pyplot as plt\n",
    "%matplotlib inline\n",
    "import seaborn as sns\n",
    "sns.set(style=\"whitegrid\", color_codes=True)"
   ]
  },
  {
   "cell_type": "code",
   "execution_count": 601,
   "metadata": {},
   "outputs": [
    {
     "data": {
      "text/plain": [
       "(25977, 50)"
      ]
     },
     "execution_count": 601,
     "metadata": {},
     "output_type": "execute_result"
    }
   ],
   "source": [
    "data = pd.read_csv('../../Body.txt')\n",
    "data.shape"
   ]
  },
  {
   "cell_type": "code",
   "execution_count": 607,
   "metadata": {},
   "outputs": [],
   "source": [
    "#data_one = data[(data.id==1372171428472) & (data.z_pattern!=0)]\n",
    "data_one = data[(data.id==1372171428472) ]\n",
    "data_one = data_one.set_index('time')"
   ]
  },
  {
   "cell_type": "code",
   "execution_count": 608,
   "metadata": {},
   "outputs": [
    {
     "data": {
      "text/plain": [
       "(1390, 49)"
      ]
     },
     "execution_count": 608,
     "metadata": {},
     "output_type": "execute_result"
    }
   ],
   "source": [
    "data_one.shape"
   ]
  },
  {
   "cell_type": "code",
   "execution_count": 609,
   "metadata": {},
   "outputs": [
    {
     "data": {
      "text/html": [
       "<div>\n",
       "<style>\n",
       "    .dataframe thead tr:only-child th {\n",
       "        text-align: right;\n",
       "    }\n",
       "\n",
       "    .dataframe thead th {\n",
       "        text-align: left;\n",
       "    }\n",
       "\n",
       "    .dataframe tbody tr th {\n",
       "        vertical-align: top;\n",
       "    }\n",
       "</style>\n",
       "<table border=\"1\" class=\"dataframe\">\n",
       "  <thead>\n",
       "    <tr style=\"text-align: right;\">\n",
       "      <th></th>\n",
       "      <th>id</th>\n",
       "      <th>class_id</th>\n",
       "      <th>x</th>\n",
       "      <th>y</th>\n",
       "      <th>z</th>\n",
       "      <th>vx</th>\n",
       "      <th>vy</th>\n",
       "      <th>vz</th>\n",
       "      <th>sigma_00</th>\n",
       "      <th>sigma_01</th>\n",
       "      <th>...</th>\n",
       "      <th>sigma_51</th>\n",
       "      <th>sigma_52</th>\n",
       "      <th>sigma_53</th>\n",
       "      <th>sigma_54</th>\n",
       "      <th>sigma_55</th>\n",
       "      <th>x_pattern</th>\n",
       "      <th>y_pattern</th>\n",
       "      <th>z_pattern</th>\n",
       "      <th>pattern</th>\n",
       "      <th>status</th>\n",
       "    </tr>\n",
       "    <tr>\n",
       "      <th>time</th>\n",
       "      <th></th>\n",
       "      <th></th>\n",
       "      <th></th>\n",
       "      <th></th>\n",
       "      <th></th>\n",
       "      <th></th>\n",
       "      <th></th>\n",
       "      <th></th>\n",
       "      <th></th>\n",
       "      <th></th>\n",
       "      <th></th>\n",
       "      <th></th>\n",
       "      <th></th>\n",
       "      <th></th>\n",
       "      <th></th>\n",
       "      <th></th>\n",
       "      <th></th>\n",
       "      <th></th>\n",
       "      <th></th>\n",
       "      <th></th>\n",
       "      <th></th>\n",
       "    </tr>\n",
       "  </thead>\n",
       "  <tbody>\n",
       "    <tr>\n",
       "      <th>4.48</th>\n",
       "      <td>1372171428472</td>\n",
       "      <td>7</td>\n",
       "      <td>-2.079</td>\n",
       "      <td>1.456</td>\n",
       "      <td>-75.630</td>\n",
       "      <td>0.000</td>\n",
       "      <td>0.000</td>\n",
       "      <td>0.000</td>\n",
       "      <td>199.601</td>\n",
       "      <td>0.0</td>\n",
       "      <td>...</td>\n",
       "      <td>0.0</td>\n",
       "      <td>7.971</td>\n",
       "      <td>0.0</td>\n",
       "      <td>0.0</td>\n",
       "      <td>99840.574</td>\n",
       "      <td>-2.079</td>\n",
       "      <td>1.456</td>\n",
       "      <td>-75.630</td>\n",
       "      <td>1372171428976</td>\n",
       "      <td>1</td>\n",
       "    </tr>\n",
       "    <tr>\n",
       "      <th>4.52</th>\n",
       "      <td>1372171428472</td>\n",
       "      <td>7</td>\n",
       "      <td>-2.046</td>\n",
       "      <td>1.426</td>\n",
       "      <td>-74.189</td>\n",
       "      <td>0.364</td>\n",
       "      <td>-0.331</td>\n",
       "      <td>16.021</td>\n",
       "      <td>128.569</td>\n",
       "      <td>0.0</td>\n",
       "      <td>...</td>\n",
       "      <td>0.0</td>\n",
       "      <td>1429.181</td>\n",
       "      <td>0.0</td>\n",
       "      <td>0.0</td>\n",
       "      <td>71245.552</td>\n",
       "      <td>-2.028</td>\n",
       "      <td>1.410</td>\n",
       "      <td>-73.388</td>\n",
       "      <td>1372171428976</td>\n",
       "      <td>1</td>\n",
       "    </tr>\n",
       "    <tr>\n",
       "      <th>4.56</th>\n",
       "      <td>1372171428472</td>\n",
       "      <td>7</td>\n",
       "      <td>-1.997</td>\n",
       "      <td>1.386</td>\n",
       "      <td>-72.424</td>\n",
       "      <td>0.775</td>\n",
       "      <td>-0.657</td>\n",
       "      <td>29.497</td>\n",
       "      <td>128.173</td>\n",
       "      <td>0.0</td>\n",
       "      <td>...</td>\n",
       "      <td>0.0</td>\n",
       "      <td>1536.731</td>\n",
       "      <td>0.0</td>\n",
       "      <td>0.0</td>\n",
       "      <td>38367.159</td>\n",
       "      <td>-1.978</td>\n",
       "      <td>1.370</td>\n",
       "      <td>-71.794</td>\n",
       "      <td>1372171428976</td>\n",
       "      <td>1</td>\n",
       "    </tr>\n",
       "    <tr>\n",
       "      <th>4.60</th>\n",
       "      <td>1372171428472</td>\n",
       "      <td>7</td>\n",
       "      <td>-1.982</td>\n",
       "      <td>1.364</td>\n",
       "      <td>-71.876</td>\n",
       "      <td>0.624</td>\n",
       "      <td>-0.611</td>\n",
       "      <td>23.284</td>\n",
       "      <td>121.951</td>\n",
       "      <td>0.0</td>\n",
       "      <td>...</td>\n",
       "      <td>0.0</td>\n",
       "      <td>1198.603</td>\n",
       "      <td>0.0</td>\n",
       "      <td>0.0</td>\n",
       "      <td>19960.100</td>\n",
       "      <td>-1.991</td>\n",
       "      <td>1.367</td>\n",
       "      <td>-72.281</td>\n",
       "      <td>1372171428976</td>\n",
       "      <td>1</td>\n",
       "    </tr>\n",
       "    <tr>\n",
       "      <th>4.64</th>\n",
       "      <td>1372171428472</td>\n",
       "      <td>7</td>\n",
       "      <td>-1.994</td>\n",
       "      <td>1.353</td>\n",
       "      <td>-72.425</td>\n",
       "      <td>0.324</td>\n",
       "      <td>-0.502</td>\n",
       "      <td>11.448</td>\n",
       "      <td>111.067</td>\n",
       "      <td>0.0</td>\n",
       "      <td>...</td>\n",
       "      <td>0.0</td>\n",
       "      <td>888.002</td>\n",
       "      <td>0.0</td>\n",
       "      <td>0.0</td>\n",
       "      <td>11093.369</td>\n",
       "      <td>-2.024</td>\n",
       "      <td>1.364</td>\n",
       "      <td>-73.611</td>\n",
       "      <td>1372171428976</td>\n",
       "      <td>1</td>\n",
       "    </tr>\n",
       "  </tbody>\n",
       "</table>\n",
       "<p>5 rows × 49 columns</p>\n",
       "</div>"
      ],
      "text/plain": [
       "                 id  class_id      x      y       z     vx     vy      vz  \\\n",
       "time                                                                        \n",
       "4.48  1372171428472         7 -2.079  1.456 -75.630  0.000  0.000   0.000   \n",
       "4.52  1372171428472         7 -2.046  1.426 -74.189  0.364 -0.331  16.021   \n",
       "4.56  1372171428472         7 -1.997  1.386 -72.424  0.775 -0.657  29.497   \n",
       "4.60  1372171428472         7 -1.982  1.364 -71.876  0.624 -0.611  23.284   \n",
       "4.64  1372171428472         7 -1.994  1.353 -72.425  0.324 -0.502  11.448   \n",
       "\n",
       "      sigma_00  sigma_01   ...    sigma_51  sigma_52  sigma_53  sigma_54  \\\n",
       "time                       ...                                             \n",
       "4.48   199.601       0.0   ...         0.0     7.971       0.0       0.0   \n",
       "4.52   128.569       0.0   ...         0.0  1429.181       0.0       0.0   \n",
       "4.56   128.173       0.0   ...         0.0  1536.731       0.0       0.0   \n",
       "4.60   121.951       0.0   ...         0.0  1198.603       0.0       0.0   \n",
       "4.64   111.067       0.0   ...         0.0   888.002       0.0       0.0   \n",
       "\n",
       "       sigma_55  x_pattern  y_pattern  z_pattern        pattern  status  \n",
       "time                                                                     \n",
       "4.48  99840.574     -2.079      1.456    -75.630  1372171428976       1  \n",
       "4.52  71245.552     -2.028      1.410    -73.388  1372171428976       1  \n",
       "4.56  38367.159     -1.978      1.370    -71.794  1372171428976       1  \n",
       "4.60  19960.100     -1.991      1.367    -72.281  1372171428976       1  \n",
       "4.64  11093.369     -2.024      1.364    -73.611  1372171428976       1  \n",
       "\n",
       "[5 rows x 49 columns]"
      ]
     },
     "execution_count": 609,
     "metadata": {},
     "output_type": "execute_result"
    }
   ],
   "source": [
    "data_one.head()"
   ]
  },
  {
   "cell_type": "code",
   "execution_count": 610,
   "metadata": {},
   "outputs": [
    {
     "data": {
      "text/html": [
       "<div>\n",
       "<style>\n",
       "    .dataframe thead tr:only-child th {\n",
       "        text-align: right;\n",
       "    }\n",
       "\n",
       "    .dataframe thead th {\n",
       "        text-align: left;\n",
       "    }\n",
       "\n",
       "    .dataframe tbody tr th {\n",
       "        vertical-align: top;\n",
       "    }\n",
       "</style>\n",
       "<table border=\"1\" class=\"dataframe\">\n",
       "  <thead>\n",
       "    <tr style=\"text-align: right;\">\n",
       "      <th></th>\n",
       "      <th>id</th>\n",
       "      <th>class_id</th>\n",
       "      <th>x</th>\n",
       "      <th>y</th>\n",
       "      <th>z</th>\n",
       "      <th>vx</th>\n",
       "      <th>vy</th>\n",
       "      <th>vz</th>\n",
       "      <th>sigma_00</th>\n",
       "      <th>sigma_01</th>\n",
       "      <th>...</th>\n",
       "      <th>sigma_51</th>\n",
       "      <th>sigma_52</th>\n",
       "      <th>sigma_53</th>\n",
       "      <th>sigma_54</th>\n",
       "      <th>sigma_55</th>\n",
       "      <th>x_pattern</th>\n",
       "      <th>y_pattern</th>\n",
       "      <th>z_pattern</th>\n",
       "      <th>pattern</th>\n",
       "      <th>status</th>\n",
       "    </tr>\n",
       "    <tr>\n",
       "      <th>time</th>\n",
       "      <th></th>\n",
       "      <th></th>\n",
       "      <th></th>\n",
       "      <th></th>\n",
       "      <th></th>\n",
       "      <th></th>\n",
       "      <th></th>\n",
       "      <th></th>\n",
       "      <th></th>\n",
       "      <th></th>\n",
       "      <th></th>\n",
       "      <th></th>\n",
       "      <th></th>\n",
       "      <th></th>\n",
       "      <th></th>\n",
       "      <th></th>\n",
       "      <th></th>\n",
       "      <th></th>\n",
       "      <th></th>\n",
       "      <th></th>\n",
       "      <th></th>\n",
       "    </tr>\n",
       "  </thead>\n",
       "  <tbody>\n",
       "    <tr>\n",
       "      <th>59.88</th>\n",
       "      <td>1372171428472</td>\n",
       "      <td>7</td>\n",
       "      <td>39.916</td>\n",
       "      <td>-52.580</td>\n",
       "      <td>305.448</td>\n",
       "      <td>0.756</td>\n",
       "      <td>-0.979</td>\n",
       "      <td>6.763</td>\n",
       "      <td>6340.407</td>\n",
       "      <td>0.0</td>\n",
       "      <td>...</td>\n",
       "      <td>0.0</td>\n",
       "      <td>118.116</td>\n",
       "      <td>0.0</td>\n",
       "      <td>0.0</td>\n",
       "      <td>2.201</td>\n",
       "      <td>0.0</td>\n",
       "      <td>0.0</td>\n",
       "      <td>0.0</td>\n",
       "      <td>0</td>\n",
       "      <td>0</td>\n",
       "    </tr>\n",
       "    <tr>\n",
       "      <th>59.92</th>\n",
       "      <td>1372171428472</td>\n",
       "      <td>7</td>\n",
       "      <td>39.947</td>\n",
       "      <td>-52.619</td>\n",
       "      <td>305.718</td>\n",
       "      <td>0.756</td>\n",
       "      <td>-0.979</td>\n",
       "      <td>6.763</td>\n",
       "      <td>6349.860</td>\n",
       "      <td>0.0</td>\n",
       "      <td>...</td>\n",
       "      <td>0.0</td>\n",
       "      <td>118.205</td>\n",
       "      <td>0.0</td>\n",
       "      <td>0.0</td>\n",
       "      <td>2.201</td>\n",
       "      <td>0.0</td>\n",
       "      <td>0.0</td>\n",
       "      <td>0.0</td>\n",
       "      <td>0</td>\n",
       "      <td>0</td>\n",
       "    </tr>\n",
       "    <tr>\n",
       "      <th>59.96</th>\n",
       "      <td>1372171428472</td>\n",
       "      <td>7</td>\n",
       "      <td>39.977</td>\n",
       "      <td>-52.658</td>\n",
       "      <td>305.989</td>\n",
       "      <td>0.756</td>\n",
       "      <td>-0.979</td>\n",
       "      <td>6.763</td>\n",
       "      <td>6359.320</td>\n",
       "      <td>0.0</td>\n",
       "      <td>...</td>\n",
       "      <td>0.0</td>\n",
       "      <td>118.293</td>\n",
       "      <td>0.0</td>\n",
       "      <td>0.0</td>\n",
       "      <td>2.201</td>\n",
       "      <td>0.0</td>\n",
       "      <td>0.0</td>\n",
       "      <td>0.0</td>\n",
       "      <td>0</td>\n",
       "      <td>0</td>\n",
       "    </tr>\n",
       "    <tr>\n",
       "      <th>60.00</th>\n",
       "      <td>1372171428472</td>\n",
       "      <td>7</td>\n",
       "      <td>40.007</td>\n",
       "      <td>-52.698</td>\n",
       "      <td>306.260</td>\n",
       "      <td>0.756</td>\n",
       "      <td>-0.979</td>\n",
       "      <td>6.763</td>\n",
       "      <td>6368.787</td>\n",
       "      <td>0.0</td>\n",
       "      <td>...</td>\n",
       "      <td>0.0</td>\n",
       "      <td>118.381</td>\n",
       "      <td>0.0</td>\n",
       "      <td>0.0</td>\n",
       "      <td>2.201</td>\n",
       "      <td>0.0</td>\n",
       "      <td>0.0</td>\n",
       "      <td>0.0</td>\n",
       "      <td>0</td>\n",
       "      <td>0</td>\n",
       "    </tr>\n",
       "    <tr>\n",
       "      <th>60.04</th>\n",
       "      <td>1372171428472</td>\n",
       "      <td>7</td>\n",
       "      <td>40.037</td>\n",
       "      <td>-52.737</td>\n",
       "      <td>306.530</td>\n",
       "      <td>0.756</td>\n",
       "      <td>-0.979</td>\n",
       "      <td>6.763</td>\n",
       "      <td>6378.261</td>\n",
       "      <td>0.0</td>\n",
       "      <td>...</td>\n",
       "      <td>0.0</td>\n",
       "      <td>118.469</td>\n",
       "      <td>0.0</td>\n",
       "      <td>0.0</td>\n",
       "      <td>2.201</td>\n",
       "      <td>0.0</td>\n",
       "      <td>0.0</td>\n",
       "      <td>0.0</td>\n",
       "      <td>0</td>\n",
       "      <td>0</td>\n",
       "    </tr>\n",
       "  </tbody>\n",
       "</table>\n",
       "<p>5 rows × 49 columns</p>\n",
       "</div>"
      ],
      "text/plain": [
       "                  id  class_id       x       y        z     vx     vy     vz  \\\n",
       "time                                                                           \n",
       "59.88  1372171428472         7  39.916 -52.580  305.448  0.756 -0.979  6.763   \n",
       "59.92  1372171428472         7  39.947 -52.619  305.718  0.756 -0.979  6.763   \n",
       "59.96  1372171428472         7  39.977 -52.658  305.989  0.756 -0.979  6.763   \n",
       "60.00  1372171428472         7  40.007 -52.698  306.260  0.756 -0.979  6.763   \n",
       "60.04  1372171428472         7  40.037 -52.737  306.530  0.756 -0.979  6.763   \n",
       "\n",
       "       sigma_00  sigma_01   ...    sigma_51  sigma_52  sigma_53  sigma_54  \\\n",
       "time                        ...                                             \n",
       "59.88  6340.407       0.0   ...         0.0   118.116       0.0       0.0   \n",
       "59.92  6349.860       0.0   ...         0.0   118.205       0.0       0.0   \n",
       "59.96  6359.320       0.0   ...         0.0   118.293       0.0       0.0   \n",
       "60.00  6368.787       0.0   ...         0.0   118.381       0.0       0.0   \n",
       "60.04  6378.261       0.0   ...         0.0   118.469       0.0       0.0   \n",
       "\n",
       "       sigma_55  x_pattern  y_pattern  z_pattern  pattern  status  \n",
       "time                                                               \n",
       "59.88     2.201        0.0        0.0        0.0        0       0  \n",
       "59.92     2.201        0.0        0.0        0.0        0       0  \n",
       "59.96     2.201        0.0        0.0        0.0        0       0  \n",
       "60.00     2.201        0.0        0.0        0.0        0       0  \n",
       "60.04     2.201        0.0        0.0        0.0        0       0  \n",
       "\n",
       "[5 rows x 49 columns]"
      ]
     },
     "execution_count": 610,
     "metadata": {},
     "output_type": "execute_result"
    }
   ],
   "source": [
    "data_one.tail()"
   ]
  },
  {
   "cell_type": "code",
   "execution_count": 611,
   "metadata": {},
   "outputs": [
    {
     "data": {
      "text/plain": [
       "<matplotlib.axes._subplots.AxesSubplot at 0x1f5dbed9390>"
      ]
     },
     "execution_count": 611,
     "metadata": {},
     "output_type": "execute_result"
    },
    {
     "data": {
      "image/png": "[encoded data removed]",
      "text/plain": [
       "<matplotlib.figure.Figure at 0x1f5dbf27048>"
      ]
     },
     "metadata": {},
     "output_type": "display_data"
    }
   ],
   "source": [
    "data_one['status'].plot()"
   ]
  },
  {
   "cell_type": "code",
   "execution_count": 612,
   "metadata": {},
   "outputs": [
    {
     "data": {
      "text/plain": [
       "<matplotlib.axes._subplots.AxesSubplot at 0x1f5defad828>"
      ]
     },
     "execution_count": 612,
     "metadata": {},
     "output_type": "execute_result"
    },
    {
     "data": {
      "image/png": "[encoded data removed]",
      "text/plain": [
       "<matplotlib.figure.Figure at 0x1f5def834a8>"
      ]
     },
     "metadata": {},
     "output_type": "display_data"
    }
   ],
   "source": [
    "data_one['x'].plot() # estimated, blue\n",
    "data_one['x_pattern'].plot() # measured, green"
   ]
  },
  {
   "cell_type": "code",
   "execution_count": 613,
   "metadata": {},
   "outputs": [
    {
     "data": {
      "text/plain": [
       "<matplotlib.axes._subplots.AxesSubplot at 0x1f5dbf720f0>"
      ]
     },
     "execution_count": 613,
     "metadata": {},
     "output_type": "execute_result"
    },
    {
     "data": {
      "image/png": "[encoded data removed]",
      "text/plain": [
       "<matplotlib.figure.Figure at 0x1f5dffff780>"
      ]
     },
     "metadata": {},
     "output_type": "display_data"
    }
   ],
   "source": [
    "data_one['vx'].plot() # blue"
   ]
  },
  {
   "cell_type": "code",
   "execution_count": 614,
   "metadata": {},
   "outputs": [
    {
     "data": {
      "text/plain": [
       "<matplotlib.axes._subplots.AxesSubplot at 0x1f5e003d0b8>"
      ]
     },
     "execution_count": 614,
     "metadata": {},
     "output_type": "execute_result"
    },
    {
     "data": {
      "image/png": "[encoded data removed]",
      "text/plain": [
       "<matplotlib.figure.Figure at 0x1f5e00aa668>"
      ]
     },
     "metadata": {},
     "output_type": "display_data"
    }
   ],
   "source": [
    "data_one['y'].plot() # estimated, blue\n",
    "data_one['y_pattern'].plot() # measured, green"
   ]
  },
  {
   "cell_type": "code",
   "execution_count": 615,
   "metadata": {},
   "outputs": [
    {
     "data": {
      "text/plain": [
       "<matplotlib.axes._subplots.AxesSubplot at 0x1f5e00cd908>"
      ]
     },
     "execution_count": 615,
     "metadata": {},
     "output_type": "execute_result"
    },
    {
     "data": {
      "image/png": "[encoded data removed]",
      "text/plain": [
       "<matplotlib.figure.Figure at 0x1f5e0142ba8>"
      ]
     },
     "metadata": {},
     "output_type": "display_data"
    }
   ],
   "source": [
    "data_one['vy'].plot() # blue"
   ]
  },
  {
   "cell_type": "code",
   "execution_count": 616,
   "metadata": {},
   "outputs": [
    {
     "data": {
      "text/plain": [
       "<matplotlib.axes._subplots.AxesSubplot at 0x1f5def60780>"
      ]
     },
     "execution_count": 616,
     "metadata": {},
     "output_type": "execute_result"
    },
    {
     "data": {
      "image/png": "[encoded data removed]",
      "text/plain": [
       "<matplotlib.figure.Figure at 0x1f5d72aa4a8>"
      ]
     },
     "metadata": {},
     "output_type": "display_data"
    }
   ],
   "source": [
    "data_one['z'].plot() # estimated, blue\n",
    "data_one['z_pattern'].plot() # measured, green"
   ]
  },
  {
   "cell_type": "code",
   "execution_count": 617,
   "metadata": {},
   "outputs": [
    {
     "data": {
      "text/plain": [
       "<matplotlib.axes._subplots.AxesSubplot at 0x1f5d827f0b8>"
      ]
     },
     "execution_count": 617,
     "metadata": {},
     "output_type": "execute_result"
    },
    {
     "data": {
      "image/png": "[encoded data removed]",
      "text/plain": [
       "<matplotlib.figure.Figure at 0x1f5d86eac50>"
      ]
     },
     "metadata": {},
     "output_type": "display_data"
    }
   ],
   "source": [
    "data_one['vz'].plot() # blue"
   ]
  },
  {
   "cell_type": "code",
   "execution_count": 621,
   "metadata": {},
   "outputs": [
    {
     "data": {
      "text/plain": [
       "<matplotlib.axes._subplots.AxesSubplot at 0x1f5e0280d68>"
      ]
     },
     "execution_count": 621,
     "metadata": {},
     "output_type": "execute_result"
    },
    {
     "data": {
      "image/png": "[encoded data removed]",
      "text/plain": [
       "<matplotlib.figure.Figure at 0x1f5e02eedd8>"
      ]
     },
     "metadata": {},
     "output_type": "display_data"
    }
   ],
   "source": [
    "data_one['sigma_00'].plot() # x variance, blue\n",
    "data_one['sigma_11'].plot() # y variance, green\n",
    "data_one['sigma_22'].plot() # y variance, green"
   ]
  },
  {
   "cell_type": "code",
   "execution_count": 622,
   "metadata": {},
   "outputs": [
    {
     "data": {
      "text/plain": [
       "<matplotlib.axes._subplots.AxesSubplot at 0x1f5e03d60b8>"
      ]
     },
     "execution_count": 622,
     "metadata": {},
     "output_type": "execute_result"
    },
    {
     "data": {
      "image/png": "[encoded data removed]",
      "text/plain": [
       "<matplotlib.figure.Figure at 0x1f5e02fa208>"
      ]
     },
     "metadata": {},
     "output_type": "display_data"
    }
   ],
   "source": [
    "data_one['sigma_33'].plot() # vx variance, blue\n",
    "data_one['sigma_44'].plot() # vy variance, green\n",
    "data_one['sigma_55'].plot() # vy variance, green"
   ]
  },
  {
   "cell_type": "code",
   "execution_count": null,
   "metadata": {
    "collapsed": true
   },
   "outputs": [],
   "source": []
  },
  {
   "cell_type": "code",
   "execution_count": null,
   "metadata": {
    "collapsed": true
   },
   "outputs": [],
   "source": []
  }
 ],
 "metadata": {
  "kernelspec": {
   "display_name": "Python 3",
   "language": "python",
   "name": "python3"
  },
  "language_info": {
   "codemirror_mode": {
    "name": "ipython",
    "version": 3
   },
   "file_extension": ".py",
   "mimetype": "text/x-python",
   "name": "python",
   "nbconvert_exporter": "python",
   "pygments_lexer": "ipython3",
   "version": "3.6.2"
  }
 },
 "nbformat": 4,
 "nbformat_minor": 2
}
